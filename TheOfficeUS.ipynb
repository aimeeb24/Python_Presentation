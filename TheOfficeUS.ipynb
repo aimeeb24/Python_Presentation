{
 "cells": [
  {
   "cell_type": "markdown",
   "metadata": {},
   "source": [
    "<h1> The Office US - an analysis of IMDb data </h1>\n",
    "<img src=\"TheOffice.jpg\" width=\"600\" height=\"400\">\n"
   ]
  },
  {
   "cell_type": "markdown",
   "metadata": {},
   "source": [
    "Insert Introduction"
   ]
  },
  {
   "cell_type": "code",
   "execution_count": 23,
   "metadata": {},
   "outputs": [],
   "source": [
    "import pandas as pd\n",
    "import matplotlib.pyplot as plt\n",
    "import numpy as np"
   ]
  },
  {
   "cell_type": "code",
   "execution_count": 4,
   "metadata": {},
   "outputs": [],
   "source": [
    "TheOffice_df = pd.read_csv('TheOfficeIMDB.csv', sep=',')"
   ]
  },
  {
   "cell_type": "code",
   "execution_count": 5,
   "metadata": {},
   "outputs": [
    {
     "name": "stdout",
     "output_type": "stream",
     "text": [
      "     Season             Title     AirDate  Rating  Num_Votes       DirectedBy  \\\n",
      "0         1             Pilot  24/03/2005     7.5       4349       Ken Kwapis   \n",
      "1         1     Diversity Day  29/03/2005     8.3       4213       Ken Kwapis   \n",
      "2         1       Health Care  05/04/2005     7.8       3536  Ken Whittingham   \n",
      "3         1      The Alliance  12/04/2005     8.1       3428     Bryan Gordon   \n",
      "4         1        Basketball  19/04/2005     8.4       3745     Greg Daniels   \n",
      "..      ...               ...         ...     ...        ...              ...   \n",
      "183       9     Stairmageddon  11/04/2013     8.0       1743        Matt Sohn   \n",
      "184       9    Paper Airplane  25/04/2013     8.0       1748     Jesse Peretz   \n",
      "185       9  Livin' the Dream  02/05/2013     9.0       2439    Jeffrey Blitz   \n",
      "186       9          A.A.R.M.  09/05/2013     9.5       3401     David Rogers   \n",
      "187       9            Finale  16/05/2013     9.8       9269       Ken Kwapis   \n",
      "\n",
      "                                            WrittenBy  \n",
      "0    Ricky Gervais |Stephen Merchant and Greg Daniels  \n",
      "1                                         B. J. Novak  \n",
      "2                                    Paul Lieberstein  \n",
      "3                                       Michael Schur  \n",
      "4                                        Greg Daniels  \n",
      "..                                                ...  \n",
      "183                                      Dan Sterling  \n",
      "184             Halsted Sullivan | Warren Lieberstein  \n",
      "185                              Niki Schwartz-Wright  \n",
      "186                                   Brent Forrester  \n",
      "187                                      Greg Daniels  \n",
      "\n",
      "[188 rows x 7 columns]\n"
     ]
    }
   ],
   "source": [
    "print(TheOffice_df)"
   ]
  },
  {
   "cell_type": "code",
   "execution_count": 6,
   "metadata": {},
   "outputs": [
    {
     "data": {
      "text/plain": [
       "Index(['Season', 'Title', 'AirDate', 'Rating', 'Num_Votes', 'Description',\n",
       "       'DirectedBy', 'WrittenBy'],\n",
       "      dtype='object')"
      ]
     },
     "execution_count": 6,
     "metadata": {},
     "output_type": "execute_result"
    }
   ],
   "source": [
    "TheOffice_df.keys()          # to help along the way"
   ]
  },
  {
   "cell_type": "markdown",
   "metadata": {},
   "source": [
    "How many episodes are in each season?"
   ]
  },
  {
   "cell_type": "code",
   "execution_count": 22,
   "metadata": {},
   "outputs": [
    {
     "name": "stdout",
     "output_type": "stream",
     "text": [
      "[6, 14, 22, 23, 23, 24, 24, 26, 26]\n"
     ]
    }
   ],
   "source": [
    "x = TheOffice_df['Season'].value_counts() \n",
    "print(sorted(x))"
   ]
  },
  {
   "cell_type": "markdown",
   "metadata": {},
   "source": [
    "What is the average, minimum and maximum rating?"
   ]
  },
  {
   "cell_type": "code",
   "execution_count": 7,
   "metadata": {},
   "outputs": [
    {
     "data": {
      "text/plain": [
       "count    188.000000\n",
       "mean       8.248404\n",
       "std        0.578720\n",
       "min        6.600000\n",
       "25%        7.800000\n",
       "50%        8.200000\n",
       "75%        8.600000\n",
       "max        9.800000\n",
       "Name: Rating, dtype: float64"
      ]
     },
     "execution_count": 7,
     "metadata": {},
     "output_type": "execute_result"
    }
   ],
   "source": [
    "TheOffice_df['Rating'].describe()"
   ]
  },
  {
   "cell_type": "markdown",
   "metadata": {},
   "source": [
    "Which episodes have the highest and lowest ratings?\n"
   ]
  },
  {
   "cell_type": "code",
   "execution_count": 20,
   "metadata": {},
   "outputs": [
    {
     "name": "stdout",
     "output_type": "stream",
     "text": [
      "Season                   9\n",
      "Title               Finale\n",
      "AirDate         16/05/2013\n",
      "Rating                 9.8\n",
      "Num_Votes             9269\n",
      "DirectedBy      Ken Kwapis\n",
      "WrittenBy     Greg Daniels\n",
      "Name: 187, dtype: object\n"
     ]
    }
   ],
   "source": [
    "highest_rated_episode = TheOffice_df.sort_values(by='Rating', ascending=False).iloc[0]     # sorts the dataset from the highest to lowest rating then selects the first row\n",
    "print(highest_rated_episode)"
   ]
  },
  {
   "cell_type": "code",
   "execution_count": 21,
   "metadata": {},
   "outputs": [
    {
     "name": "stdout",
     "output_type": "stream",
     "text": [
      "Season                     8\n",
      "Title           Get the Girl\n",
      "AirDate           15/03/2012\n",
      "Rating                   6.6\n",
      "Num_Votes               1944\n",
      "DirectedBy      Rainn Wilson\n",
      "WrittenBy     Charlie Grandy\n",
      "Name: 159, dtype: object\n"
     ]
    }
   ],
   "source": [
    "lowest_rated_episode = TheOffice_df.sort_values(by='Rating', ascending=True).iloc[0]     # sorts the dataset from the lowest to highest rating then selects the first row    \n",
    "print(lowest_rated_episode)"
   ]
  },
  {
   "cell_type": "markdown",
   "metadata": {},
   "source": [
    "<h3> Comparing the amount of episodes written by different writers: </h3>"
   ]
  },
  {
   "cell_type": "code",
   "execution_count": 14,
   "metadata": {},
   "outputs": [
    {
     "data": {
      "text/html": [
       "<div>\n",
       "<style scoped>\n",
       "    .dataframe tbody tr th:only-of-type {\n",
       "        vertical-align: middle;\n",
       "    }\n",
       "\n",
       "    .dataframe tbody tr th {\n",
       "        vertical-align: top;\n",
       "    }\n",
       "\n",
       "    .dataframe thead th {\n",
       "        text-align: right;\n",
       "    }\n",
       "</style>\n",
       "<table border=\"1\" class=\"dataframe\">\n",
       "  <thead>\n",
       "    <tr style=\"text-align: right;\">\n",
       "      <th></th>\n",
       "      <th>Season</th>\n",
       "      <th>Title</th>\n",
       "      <th>AirDate</th>\n",
       "      <th>Rating</th>\n",
       "      <th>Num_Votes</th>\n",
       "      <th>DirectedBy</th>\n",
       "      <th>WrittenBy</th>\n",
       "    </tr>\n",
       "  </thead>\n",
       "  <tbody>\n",
       "    <tr>\n",
       "      <th>5</th>\n",
       "      <td>1</td>\n",
       "      <td>Hot Girl</td>\n",
       "      <td>26/04/2005</td>\n",
       "      <td>7.8</td>\n",
       "      <td>3372</td>\n",
       "      <td>Amy Heckerling</td>\n",
       "      <td>Mindy Kaling</td>\n",
       "    </tr>\n",
       "    <tr>\n",
       "      <th>6</th>\n",
       "      <td>2</td>\n",
       "      <td>The Dundies</td>\n",
       "      <td>20/09/2005</td>\n",
       "      <td>8.7</td>\n",
       "      <td>3780</td>\n",
       "      <td>Greg Daniels</td>\n",
       "      <td>Mindy Kaling</td>\n",
       "    </tr>\n",
       "    <tr>\n",
       "      <th>17</th>\n",
       "      <td>2</td>\n",
       "      <td>The Injury</td>\n",
       "      <td>12/01/2006</td>\n",
       "      <td>9.1</td>\n",
       "      <td>3783</td>\n",
       "      <td>Bryan Gordon</td>\n",
       "      <td>Mindy Kaling</td>\n",
       "    </tr>\n",
       "    <tr>\n",
       "      <th>23</th>\n",
       "      <td>2</td>\n",
       "      <td>Take Your Daughter to Work Day</td>\n",
       "      <td>16/03/2006</td>\n",
       "      <td>8.3</td>\n",
       "      <td>2819</td>\n",
       "      <td>Victor Nelli, Jr.</td>\n",
       "      <td>Mindy Kaling</td>\n",
       "    </tr>\n",
       "    <tr>\n",
       "      <th>33</th>\n",
       "      <td>3</td>\n",
       "      <td>Diwali</td>\n",
       "      <td>02/11/2006</td>\n",
       "      <td>8.0</td>\n",
       "      <td>2697</td>\n",
       "      <td>Miguel Arteta</td>\n",
       "      <td>Mindy Kaling</td>\n",
       "    </tr>\n",
       "    <tr>\n",
       "      <th>41</th>\n",
       "      <td>3</td>\n",
       "      <td>Ben Franklin</td>\n",
       "      <td>01/02/2007</td>\n",
       "      <td>8.1</td>\n",
       "      <td>2618</td>\n",
       "      <td>Randall Einhorn</td>\n",
       "      <td>Mindy Kaling</td>\n",
       "    </tr>\n",
       "    <tr>\n",
       "      <th>56</th>\n",
       "      <td>4</td>\n",
       "      <td>Branch Wars</td>\n",
       "      <td>01/11/2007</td>\n",
       "      <td>8.5</td>\n",
       "      <td>2545</td>\n",
       "      <td>Joss Whedon</td>\n",
       "      <td>Mindy Kaling</td>\n",
       "    </tr>\n",
       "    <tr>\n",
       "      <th>61</th>\n",
       "      <td>4</td>\n",
       "      <td>Night Out</td>\n",
       "      <td>24/04/2008</td>\n",
       "      <td>8.6</td>\n",
       "      <td>2536</td>\n",
       "      <td>Ken Whittingham</td>\n",
       "      <td>Mindy Kaling</td>\n",
       "    </tr>\n",
       "    <tr>\n",
       "      <th>72</th>\n",
       "      <td>5</td>\n",
       "      <td>Frame Toby</td>\n",
       "      <td>20/11/2008</td>\n",
       "      <td>8.6</td>\n",
       "      <td>2447</td>\n",
       "      <td>Jason Reitman</td>\n",
       "      <td>Mindy Kaling</td>\n",
       "    </tr>\n",
       "    <tr>\n",
       "      <th>78</th>\n",
       "      <td>5</td>\n",
       "      <td>Lecture Circuit: Part 1</td>\n",
       "      <td>05/02/2009</td>\n",
       "      <td>8.2</td>\n",
       "      <td>2169</td>\n",
       "      <td>Ken Kwapis</td>\n",
       "      <td>Mindy Kaling</td>\n",
       "    </tr>\n",
       "    <tr>\n",
       "      <th>79</th>\n",
       "      <td>5</td>\n",
       "      <td>Lecture Circuit: Part 2</td>\n",
       "      <td>12/02/2009</td>\n",
       "      <td>8.2</td>\n",
       "      <td>2132</td>\n",
       "      <td>Ken Kwapis</td>\n",
       "      <td>Mindy Kaling</td>\n",
       "    </tr>\n",
       "    <tr>\n",
       "      <th>81</th>\n",
       "      <td>5</td>\n",
       "      <td>Golden Ticket</td>\n",
       "      <td>12/03/2009</td>\n",
       "      <td>8.7</td>\n",
       "      <td>2333</td>\n",
       "      <td>Randall Einhorn</td>\n",
       "      <td>Mindy Kaling</td>\n",
       "    </tr>\n",
       "    <tr>\n",
       "      <th>103</th>\n",
       "      <td>6</td>\n",
       "      <td>Secret Santa</td>\n",
       "      <td>10/12/2009</td>\n",
       "      <td>8.5</td>\n",
       "      <td>2162</td>\n",
       "      <td>Randall Einhorn</td>\n",
       "      <td>Mindy Kaling</td>\n",
       "    </tr>\n",
       "    <tr>\n",
       "      <th>106</th>\n",
       "      <td>6</td>\n",
       "      <td>Manager and Salesman</td>\n",
       "      <td>11/02/2010</td>\n",
       "      <td>8.1</td>\n",
       "      <td>1942</td>\n",
       "      <td>Marc Webb</td>\n",
       "      <td>Mindy Kaling</td>\n",
       "    </tr>\n",
       "    <tr>\n",
       "      <th>112</th>\n",
       "      <td>6</td>\n",
       "      <td>Secretary's Day</td>\n",
       "      <td>22/04/2010</td>\n",
       "      <td>7.9</td>\n",
       "      <td>1892</td>\n",
       "      <td>Steve Carell</td>\n",
       "      <td>Mindy Kaling</td>\n",
       "    </tr>\n",
       "    <tr>\n",
       "      <th>121</th>\n",
       "      <td>7</td>\n",
       "      <td>The Sting</td>\n",
       "      <td>21/10/2010</td>\n",
       "      <td>7.8</td>\n",
       "      <td>1896</td>\n",
       "      <td>Randall Einhorn</td>\n",
       "      <td>Mindy Kaling</td>\n",
       "    </tr>\n",
       "    <tr>\n",
       "      <th>127</th>\n",
       "      <td>7</td>\n",
       "      <td>Classy Christmas</td>\n",
       "      <td>09/12/2010</td>\n",
       "      <td>9.0</td>\n",
       "      <td>2514</td>\n",
       "      <td>Rainn Wilson</td>\n",
       "      <td>Mindy Kaling</td>\n",
       "    </tr>\n",
       "    <tr>\n",
       "      <th>136</th>\n",
       "      <td>7</td>\n",
       "      <td>Michael's Last Dundies</td>\n",
       "      <td>21/04/2011</td>\n",
       "      <td>9.0</td>\n",
       "      <td>2598</td>\n",
       "      <td>Mindy Kaling</td>\n",
       "      <td>Mindy Kaling</td>\n",
       "    </tr>\n",
       "    <tr>\n",
       "      <th>150</th>\n",
       "      <td>8</td>\n",
       "      <td>Christmas Wishes</td>\n",
       "      <td>08/12/2011</td>\n",
       "      <td>8.0</td>\n",
       "      <td>1795</td>\n",
       "      <td>Ed Helms</td>\n",
       "      <td>Mindy Kaling</td>\n",
       "    </tr>\n",
       "    <tr>\n",
       "      <th>157</th>\n",
       "      <td>8</td>\n",
       "      <td>Test the Store</td>\n",
       "      <td>01/03/2012</td>\n",
       "      <td>7.8</td>\n",
       "      <td>1721</td>\n",
       "      <td>Brent Forrester</td>\n",
       "      <td>Mindy Kaling</td>\n",
       "    </tr>\n",
       "  </tbody>\n",
       "</table>\n",
       "</div>"
      ],
      "text/plain": [
       "     Season                           Title     AirDate  Rating  Num_Votes  \\\n",
       "5         1                        Hot Girl  26/04/2005     7.8       3372   \n",
       "6         2                     The Dundies  20/09/2005     8.7       3780   \n",
       "17        2                      The Injury  12/01/2006     9.1       3783   \n",
       "23        2  Take Your Daughter to Work Day  16/03/2006     8.3       2819   \n",
       "33        3                          Diwali  02/11/2006     8.0       2697   \n",
       "41        3                    Ben Franklin  01/02/2007     8.1       2618   \n",
       "56        4                     Branch Wars  01/11/2007     8.5       2545   \n",
       "61        4                       Night Out  24/04/2008     8.6       2536   \n",
       "72        5                      Frame Toby  20/11/2008     8.6       2447   \n",
       "78        5         Lecture Circuit: Part 1  05/02/2009     8.2       2169   \n",
       "79        5         Lecture Circuit: Part 2  12/02/2009     8.2       2132   \n",
       "81        5                   Golden Ticket  12/03/2009     8.7       2333   \n",
       "103       6                    Secret Santa  10/12/2009     8.5       2162   \n",
       "106       6            Manager and Salesman  11/02/2010     8.1       1942   \n",
       "112       6                 Secretary's Day  22/04/2010     7.9       1892   \n",
       "121       7                       The Sting  21/10/2010     7.8       1896   \n",
       "127       7                Classy Christmas  09/12/2010     9.0       2514   \n",
       "136       7          Michael's Last Dundies  21/04/2011     9.0       2598   \n",
       "150       8                Christmas Wishes  08/12/2011     8.0       1795   \n",
       "157       8                  Test the Store  01/03/2012     7.8       1721   \n",
       "\n",
       "            DirectedBy     WrittenBy  \n",
       "5       Amy Heckerling  Mindy Kaling  \n",
       "6         Greg Daniels  Mindy Kaling  \n",
       "17        Bryan Gordon  Mindy Kaling  \n",
       "23   Victor Nelli, Jr.  Mindy Kaling  \n",
       "33       Miguel Arteta  Mindy Kaling  \n",
       "41     Randall Einhorn  Mindy Kaling  \n",
       "56         Joss Whedon  Mindy Kaling  \n",
       "61     Ken Whittingham  Mindy Kaling  \n",
       "72       Jason Reitman  Mindy Kaling  \n",
       "78          Ken Kwapis  Mindy Kaling  \n",
       "79          Ken Kwapis  Mindy Kaling  \n",
       "81     Randall Einhorn  Mindy Kaling  \n",
       "103    Randall Einhorn  Mindy Kaling  \n",
       "106          Marc Webb  Mindy Kaling  \n",
       "112       Steve Carell  Mindy Kaling  \n",
       "121    Randall Einhorn  Mindy Kaling  \n",
       "127       Rainn Wilson  Mindy Kaling  \n",
       "136       Mindy Kaling  Mindy Kaling  \n",
       "150           Ed Helms  Mindy Kaling  \n",
       "157    Brent Forrester  Mindy Kaling  "
      ]
     },
     "execution_count": 14,
     "metadata": {},
     "output_type": "execute_result"
    }
   ],
   "source": [
    "TheOffice_df[TheOffice_df['WrittenBy'] == 'Mindy Kaling'] "
   ]
  },
  {
   "cell_type": "code",
   "execution_count": 31,
   "metadata": {},
   "outputs": [
    {
     "name": "stdout",
     "output_type": "stream",
     "text": [
      "10.638297872340425\n"
     ]
    }
   ],
   "source": [
    "total_episodes = len(TheOffice_df)\n",
    "mindy_episodes = len(TheOffice_df[TheOffice_df['WrittenBy'] == 'Mindy Kaling'])\n",
    "percentage_mindy_episodes = (mindy_episodes/total_episodes) * 100\n",
    "print(percentage_mindy_episodes)"
   ]
  },
  {
   "cell_type": "code",
   "execution_count": 17,
   "metadata": {},
   "outputs": [
    {
     "data": {
      "text/html": [
       "<div>\n",
       "<style scoped>\n",
       "    .dataframe tbody tr th:only-of-type {\n",
       "        vertical-align: middle;\n",
       "    }\n",
       "\n",
       "    .dataframe tbody tr th {\n",
       "        vertical-align: top;\n",
       "    }\n",
       "\n",
       "    .dataframe thead th {\n",
       "        text-align: right;\n",
       "    }\n",
       "</style>\n",
       "<table border=\"1\" class=\"dataframe\">\n",
       "  <thead>\n",
       "    <tr style=\"text-align: right;\">\n",
       "      <th></th>\n",
       "      <th>Season</th>\n",
       "      <th>Title</th>\n",
       "      <th>AirDate</th>\n",
       "      <th>Rating</th>\n",
       "      <th>Num_Votes</th>\n",
       "      <th>DirectedBy</th>\n",
       "      <th>WrittenBy</th>\n",
       "    </tr>\n",
       "  </thead>\n",
       "  <tbody>\n",
       "    <tr>\n",
       "      <th>27</th>\n",
       "      <td>2</td>\n",
       "      <td>Casino Night</td>\n",
       "      <td>11/05/2006</td>\n",
       "      <td>9.4</td>\n",
       "      <td>4195</td>\n",
       "      <td>Ken Kwapis</td>\n",
       "      <td>Steve Carell</td>\n",
       "    </tr>\n",
       "    <tr>\n",
       "      <th>57</th>\n",
       "      <td>4</td>\n",
       "      <td>Survivor Man</td>\n",
       "      <td>08/11/2007</td>\n",
       "      <td>8.2</td>\n",
       "      <td>2459</td>\n",
       "      <td>Paul Feig</td>\n",
       "      <td>Steve Carell</td>\n",
       "    </tr>\n",
       "  </tbody>\n",
       "</table>\n",
       "</div>"
      ],
      "text/plain": [
       "    Season         Title     AirDate  Rating  Num_Votes  DirectedBy  \\\n",
       "27       2  Casino Night  11/05/2006     9.4       4195  Ken Kwapis   \n",
       "57       4  Survivor Man  08/11/2007     8.2       2459   Paul Feig   \n",
       "\n",
       "       WrittenBy  \n",
       "27  Steve Carell  \n",
       "57  Steve Carell  "
      ]
     },
     "execution_count": 17,
     "metadata": {},
     "output_type": "execute_result"
    }
   ],
   "source": [
    "TheOffice_df[TheOffice_df['WrittenBy'] == 'Steve Carell'] "
   ]
  },
  {
   "cell_type": "code",
   "execution_count": 32,
   "metadata": {},
   "outputs": [
    {
     "name": "stdout",
     "output_type": "stream",
     "text": [
      "1.0638297872340425\n"
     ]
    }
   ],
   "source": [
    "total_episodes = len(TheOffice_df)\n",
    "steve_episodes = len(TheOffice_df[TheOffice_df['WrittenBy'] == 'Steve Carell'])\n",
    "percentage_steve_episodes = (steve_episodes/total_episodes) * 100\n",
    "print(percentage_steve_episodes)"
   ]
  },
  {
   "cell_type": "markdown",
   "metadata": {},
   "source": [
    "<h2> Ratings </h2>"
   ]
  },
  {
   "cell_type": "code",
   "execution_count": 43,
   "metadata": {},
   "outputs": [
    {
     "data": {
      "application/vnd.plotly.v1+json": {
       "config": {
        "plotlyServerURL": "https://plot.ly"
       },
       "data": [
        {
         "hovertemplate": "Season=%{x}<br>Average Rating=%{y}<extra></extra>",
         "legendgroup": "",
         "marker": {
          "color": "#636efa",
          "size": 6,
          "symbol": "circle"
         },
         "mode": "markers",
         "name": "",
         "orientation": "v",
         "showlegend": false,
         "type": "scatter",
         "x": [
          1,
          2,
          3,
          4,
          5,
          6,
          7,
          8,
          9
         ],
         "xaxis": "x",
         "y": [
          7.983333333333333,
          8.450000000000001,
          8.6,
          8.564285714285715,
          8.496153846153847,
          8.203846153846154,
          8.320833333333333,
          7.629166666666666,
          7.921739130434782
         ],
         "yaxis": "y"
        }
       ],
       "layout": {
        "legend": {
         "tracegroupgap": 0
        },
        "template": {
         "data": {
          "bar": [
           {
            "error_x": {
             "color": "#2a3f5f"
            },
            "error_y": {
             "color": "#2a3f5f"
            },
            "marker": {
             "line": {
              "color": "#E5ECF6",
              "width": 0.5
             },
             "pattern": {
              "fillmode": "overlay",
              "size": 10,
              "solidity": 0.2
             }
            },
            "type": "bar"
           }
          ],
          "barpolar": [
           {
            "marker": {
             "line": {
              "color": "#E5ECF6",
              "width": 0.5
             },
             "pattern": {
              "fillmode": "overlay",
              "size": 10,
              "solidity": 0.2
             }
            },
            "type": "barpolar"
           }
          ],
          "carpet": [
           {
            "aaxis": {
             "endlinecolor": "#2a3f5f",
             "gridcolor": "white",
             "linecolor": "white",
             "minorgridcolor": "white",
             "startlinecolor": "#2a3f5f"
            },
            "baxis": {
             "endlinecolor": "#2a3f5f",
             "gridcolor": "white",
             "linecolor": "white",
             "minorgridcolor": "white",
             "startlinecolor": "#2a3f5f"
            },
            "type": "carpet"
           }
          ],
          "choropleth": [
           {
            "colorbar": {
             "outlinewidth": 0,
             "ticks": ""
            },
            "type": "choropleth"
           }
          ],
          "contour": [
           {
            "colorbar": {
             "outlinewidth": 0,
             "ticks": ""
            },
            "colorscale": [
             [
              0,
              "#0d0887"
             ],
             [
              0.1111111111111111,
              "#46039f"
             ],
             [
              0.2222222222222222,
              "#7201a8"
             ],
             [
              0.3333333333333333,
              "#9c179e"
             ],
             [
              0.4444444444444444,
              "#bd3786"
             ],
             [
              0.5555555555555556,
              "#d8576b"
             ],
             [
              0.6666666666666666,
              "#ed7953"
             ],
             [
              0.7777777777777778,
              "#fb9f3a"
             ],
             [
              0.8888888888888888,
              "#fdca26"
             ],
             [
              1,
              "#f0f921"
             ]
            ],
            "type": "contour"
           }
          ],
          "contourcarpet": [
           {
            "colorbar": {
             "outlinewidth": 0,
             "ticks": ""
            },
            "type": "contourcarpet"
           }
          ],
          "heatmap": [
           {
            "colorbar": {
             "outlinewidth": 0,
             "ticks": ""
            },
            "colorscale": [
             [
              0,
              "#0d0887"
             ],
             [
              0.1111111111111111,
              "#46039f"
             ],
             [
              0.2222222222222222,
              "#7201a8"
             ],
             [
              0.3333333333333333,
              "#9c179e"
             ],
             [
              0.4444444444444444,
              "#bd3786"
             ],
             [
              0.5555555555555556,
              "#d8576b"
             ],
             [
              0.6666666666666666,
              "#ed7953"
             ],
             [
              0.7777777777777778,
              "#fb9f3a"
             ],
             [
              0.8888888888888888,
              "#fdca26"
             ],
             [
              1,
              "#f0f921"
             ]
            ],
            "type": "heatmap"
           }
          ],
          "heatmapgl": [
           {
            "colorbar": {
             "outlinewidth": 0,
             "ticks": ""
            },
            "colorscale": [
             [
              0,
              "#0d0887"
             ],
             [
              0.1111111111111111,
              "#46039f"
             ],
             [
              0.2222222222222222,
              "#7201a8"
             ],
             [
              0.3333333333333333,
              "#9c179e"
             ],
             [
              0.4444444444444444,
              "#bd3786"
             ],
             [
              0.5555555555555556,
              "#d8576b"
             ],
             [
              0.6666666666666666,
              "#ed7953"
             ],
             [
              0.7777777777777778,
              "#fb9f3a"
             ],
             [
              0.8888888888888888,
              "#fdca26"
             ],
             [
              1,
              "#f0f921"
             ]
            ],
            "type": "heatmapgl"
           }
          ],
          "histogram": [
           {
            "marker": {
             "pattern": {
              "fillmode": "overlay",
              "size": 10,
              "solidity": 0.2
             }
            },
            "type": "histogram"
           }
          ],
          "histogram2d": [
           {
            "colorbar": {
             "outlinewidth": 0,
             "ticks": ""
            },
            "colorscale": [
             [
              0,
              "#0d0887"
             ],
             [
              0.1111111111111111,
              "#46039f"
             ],
             [
              0.2222222222222222,
              "#7201a8"
             ],
             [
              0.3333333333333333,
              "#9c179e"
             ],
             [
              0.4444444444444444,
              "#bd3786"
             ],
             [
              0.5555555555555556,
              "#d8576b"
             ],
             [
              0.6666666666666666,
              "#ed7953"
             ],
             [
              0.7777777777777778,
              "#fb9f3a"
             ],
             [
              0.8888888888888888,
              "#fdca26"
             ],
             [
              1,
              "#f0f921"
             ]
            ],
            "type": "histogram2d"
           }
          ],
          "histogram2dcontour": [
           {
            "colorbar": {
             "outlinewidth": 0,
             "ticks": ""
            },
            "colorscale": [
             [
              0,
              "#0d0887"
             ],
             [
              0.1111111111111111,
              "#46039f"
             ],
             [
              0.2222222222222222,
              "#7201a8"
             ],
             [
              0.3333333333333333,
              "#9c179e"
             ],
             [
              0.4444444444444444,
              "#bd3786"
             ],
             [
              0.5555555555555556,
              "#d8576b"
             ],
             [
              0.6666666666666666,
              "#ed7953"
             ],
             [
              0.7777777777777778,
              "#fb9f3a"
             ],
             [
              0.8888888888888888,
              "#fdca26"
             ],
             [
              1,
              "#f0f921"
             ]
            ],
            "type": "histogram2dcontour"
           }
          ],
          "mesh3d": [
           {
            "colorbar": {
             "outlinewidth": 0,
             "ticks": ""
            },
            "type": "mesh3d"
           }
          ],
          "parcoords": [
           {
            "line": {
             "colorbar": {
              "outlinewidth": 0,
              "ticks": ""
             }
            },
            "type": "parcoords"
           }
          ],
          "pie": [
           {
            "automargin": true,
            "type": "pie"
           }
          ],
          "scatter": [
           {
            "fillpattern": {
             "fillmode": "overlay",
             "size": 10,
             "solidity": 0.2
            },
            "type": "scatter"
           }
          ],
          "scatter3d": [
           {
            "line": {
             "colorbar": {
              "outlinewidth": 0,
              "ticks": ""
             }
            },
            "marker": {
             "colorbar": {
              "outlinewidth": 0,
              "ticks": ""
             }
            },
            "type": "scatter3d"
           }
          ],
          "scattercarpet": [
           {
            "marker": {
             "colorbar": {
              "outlinewidth": 0,
              "ticks": ""
             }
            },
            "type": "scattercarpet"
           }
          ],
          "scattergeo": [
           {
            "marker": {
             "colorbar": {
              "outlinewidth": 0,
              "ticks": ""
             }
            },
            "type": "scattergeo"
           }
          ],
          "scattergl": [
           {
            "marker": {
             "colorbar": {
              "outlinewidth": 0,
              "ticks": ""
             }
            },
            "type": "scattergl"
           }
          ],
          "scattermapbox": [
           {
            "marker": {
             "colorbar": {
              "outlinewidth": 0,
              "ticks": ""
             }
            },
            "type": "scattermapbox"
           }
          ],
          "scatterpolar": [
           {
            "marker": {
             "colorbar": {
              "outlinewidth": 0,
              "ticks": ""
             }
            },
            "type": "scatterpolar"
           }
          ],
          "scatterpolargl": [
           {
            "marker": {
             "colorbar": {
              "outlinewidth": 0,
              "ticks": ""
             }
            },
            "type": "scatterpolargl"
           }
          ],
          "scatterternary": [
           {
            "marker": {
             "colorbar": {
              "outlinewidth": 0,
              "ticks": ""
             }
            },
            "type": "scatterternary"
           }
          ],
          "surface": [
           {
            "colorbar": {
             "outlinewidth": 0,
             "ticks": ""
            },
            "colorscale": [
             [
              0,
              "#0d0887"
             ],
             [
              0.1111111111111111,
              "#46039f"
             ],
             [
              0.2222222222222222,
              "#7201a8"
             ],
             [
              0.3333333333333333,
              "#9c179e"
             ],
             [
              0.4444444444444444,
              "#bd3786"
             ],
             [
              0.5555555555555556,
              "#d8576b"
             ],
             [
              0.6666666666666666,
              "#ed7953"
             ],
             [
              0.7777777777777778,
              "#fb9f3a"
             ],
             [
              0.8888888888888888,
              "#fdca26"
             ],
             [
              1,
              "#f0f921"
             ]
            ],
            "type": "surface"
           }
          ],
          "table": [
           {
            "cells": {
             "fill": {
              "color": "#EBF0F8"
             },
             "line": {
              "color": "white"
             }
            },
            "header": {
             "fill": {
              "color": "#C8D4E3"
             },
             "line": {
              "color": "white"
             }
            },
            "type": "table"
           }
          ]
         },
         "layout": {
          "annotationdefaults": {
           "arrowcolor": "#2a3f5f",
           "arrowhead": 0,
           "arrowwidth": 1
          },
          "autotypenumbers": "strict",
          "coloraxis": {
           "colorbar": {
            "outlinewidth": 0,
            "ticks": ""
           }
          },
          "colorscale": {
           "diverging": [
            [
             0,
             "#8e0152"
            ],
            [
             0.1,
             "#c51b7d"
            ],
            [
             0.2,
             "#de77ae"
            ],
            [
             0.3,
             "#f1b6da"
            ],
            [
             0.4,
             "#fde0ef"
            ],
            [
             0.5,
             "#f7f7f7"
            ],
            [
             0.6,
             "#e6f5d0"
            ],
            [
             0.7,
             "#b8e186"
            ],
            [
             0.8,
             "#7fbc41"
            ],
            [
             0.9,
             "#4d9221"
            ],
            [
             1,
             "#276419"
            ]
           ],
           "sequential": [
            [
             0,
             "#0d0887"
            ],
            [
             0.1111111111111111,
             "#46039f"
            ],
            [
             0.2222222222222222,
             "#7201a8"
            ],
            [
             0.3333333333333333,
             "#9c179e"
            ],
            [
             0.4444444444444444,
             "#bd3786"
            ],
            [
             0.5555555555555556,
             "#d8576b"
            ],
            [
             0.6666666666666666,
             "#ed7953"
            ],
            [
             0.7777777777777778,
             "#fb9f3a"
            ],
            [
             0.8888888888888888,
             "#fdca26"
            ],
            [
             1,
             "#f0f921"
            ]
           ],
           "sequentialminus": [
            [
             0,
             "#0d0887"
            ],
            [
             0.1111111111111111,
             "#46039f"
            ],
            [
             0.2222222222222222,
             "#7201a8"
            ],
            [
             0.3333333333333333,
             "#9c179e"
            ],
            [
             0.4444444444444444,
             "#bd3786"
            ],
            [
             0.5555555555555556,
             "#d8576b"
            ],
            [
             0.6666666666666666,
             "#ed7953"
            ],
            [
             0.7777777777777778,
             "#fb9f3a"
            ],
            [
             0.8888888888888888,
             "#fdca26"
            ],
            [
             1,
             "#f0f921"
            ]
           ]
          },
          "colorway": [
           "#636efa",
           "#EF553B",
           "#00cc96",
           "#ab63fa",
           "#FFA15A",
           "#19d3f3",
           "#FF6692",
           "#B6E880",
           "#FF97FF",
           "#FECB52"
          ],
          "font": {
           "color": "#2a3f5f"
          },
          "geo": {
           "bgcolor": "white",
           "lakecolor": "white",
           "landcolor": "#E5ECF6",
           "showlakes": true,
           "showland": true,
           "subunitcolor": "white"
          },
          "hoverlabel": {
           "align": "left"
          },
          "hovermode": "closest",
          "mapbox": {
           "style": "light"
          },
          "paper_bgcolor": "white",
          "plot_bgcolor": "#E5ECF6",
          "polar": {
           "angularaxis": {
            "gridcolor": "white",
            "linecolor": "white",
            "ticks": ""
           },
           "bgcolor": "#E5ECF6",
           "radialaxis": {
            "gridcolor": "white",
            "linecolor": "white",
            "ticks": ""
           }
          },
          "scene": {
           "xaxis": {
            "backgroundcolor": "#E5ECF6",
            "gridcolor": "white",
            "gridwidth": 2,
            "linecolor": "white",
            "showbackground": true,
            "ticks": "",
            "zerolinecolor": "white"
           },
           "yaxis": {
            "backgroundcolor": "#E5ECF6",
            "gridcolor": "white",
            "gridwidth": 2,
            "linecolor": "white",
            "showbackground": true,
            "ticks": "",
            "zerolinecolor": "white"
           },
           "zaxis": {
            "backgroundcolor": "#E5ECF6",
            "gridcolor": "white",
            "gridwidth": 2,
            "linecolor": "white",
            "showbackground": true,
            "ticks": "",
            "zerolinecolor": "white"
           }
          },
          "shapedefaults": {
           "line": {
            "color": "#2a3f5f"
           }
          },
          "ternary": {
           "aaxis": {
            "gridcolor": "white",
            "linecolor": "white",
            "ticks": ""
           },
           "baxis": {
            "gridcolor": "white",
            "linecolor": "white",
            "ticks": ""
           },
           "bgcolor": "#E5ECF6",
           "caxis": {
            "gridcolor": "white",
            "linecolor": "white",
            "ticks": ""
           }
          },
          "title": {
           "x": 0.05
          },
          "xaxis": {
           "automargin": true,
           "gridcolor": "white",
           "linecolor": "white",
           "ticks": "",
           "title": {
            "standoff": 15
           },
           "zerolinecolor": "white",
           "zerolinewidth": 2
          },
          "yaxis": {
           "automargin": true,
           "gridcolor": "white",
           "linecolor": "white",
           "ticks": "",
           "title": {
            "standoff": 15
           },
           "zerolinecolor": "white",
           "zerolinewidth": 2
          }
         }
        },
        "title": {
         "text": "Average Episode Ratings by Season"
        },
        "xaxis": {
         "anchor": "y",
         "domain": [
          0,
          1
         ],
         "title": {
          "text": "Season"
         }
        },
        "yaxis": {
         "anchor": "x",
         "domain": [
          0,
          1
         ],
         "title": {
          "text": "Average Rating"
         }
        }
       }
      }
     },
     "metadata": {},
     "output_type": "display_data"
    }
   ],
   "source": [
    "# Group by 'Season' and calculate the average rating for each season\n",
    "season_avg_ratings = TheOffice_df.groupby('Season')['Rating'].mean().reset_index()\n",
    "\n",
    "fig = px.scatter(season_avg_ratings, x='Season', y='Rating', title='Average Episode Ratings by Season',\n",
    "                 labels={'Season': 'Season', 'Rating': 'Average Rating'})\n",
    "fig.update_traces(marker=dict(size=6)) \n",
    "\n",
    "fig.show()"
   ]
  },
  {
   "cell_type": "code",
   "execution_count": null,
   "metadata": {},
   "outputs": [],
   "source": [
    "#directors and their episodes' average ratings\n",
    "#directors and amount of episodes "
   ]
  },
  {
   "cell_type": "code",
   "execution_count": null,
   "metadata": {},
   "outputs": [],
   "source": [
    "# top 10 episodes ratings "
   ]
  },
  {
   "cell_type": "code",
   "execution_count": null,
   "metadata": {},
   "outputs": [],
   "source": [
    "# dates and ratings?"
   ]
  },
  {
   "cell_type": "code",
   "execution_count": null,
   "metadata": {},
   "outputs": [],
   "source": [
    "# votes/ratings"
   ]
  },
  {
   "cell_type": "markdown",
   "metadata": {},
   "source": [
    "<h3> Ratings after Steve Carell leaves the show </h3>"
   ]
  },
  {
   "cell_type": "markdown",
   "metadata": {},
   "source": [
    "Found graph on Kaggle which I wanted to use - however it wouldn't work if I just copied and pasted it because:\n",
    "- Had to make sure I installed and imported everything needed\n",
    "- Kept lots of errors but from trying to problem solve on google, I realised I needed to change the kernel\n",
    "- The date Steve Carell left was wrong on the graph - I realised this was because the date format in the code didn't match the format in the dataset"
   ]
  },
  {
   "cell_type": "code",
   "execution_count": 6,
   "metadata": {},
   "outputs": [],
   "source": [
    "import urllib.request\n",
    "from bs4 import BeautifulSoup\n",
    "import plotly.graph_objs as go\n",
    "from plotly.offline import init_notebook_mode, iplot\n",
    "from plotly.subplots import make_subplots"
   ]
  },
  {
   "cell_type": "code",
   "execution_count": 8,
   "metadata": {},
   "outputs": [
    {
     "data": {
      "application/vnd.plotly.v1+json": {
       "config": {
        "linkText": "Export to plot.ly",
        "plotlyServerURL": "https://plot.ly",
        "showLink": false
       },
       "data": [
        {
         "line": {
          "color": "rgb(242,219,126)",
          "shape": "spline",
          "width": 3
         },
         "mode": "lines",
         "name": "Rating",
         "type": "scatter",
         "x": [
          "24/03/2005",
          "29/03/2005",
          "05/04/2005",
          "12/04/2005",
          "19/04/2005",
          "26/04/2005",
          "20/09/2005",
          "27/09/2005",
          "04/10/2005",
          "11/10/2005",
          "18/10/2005",
          "01/11/2005",
          "08/11/2005",
          "15/11/2005",
          "22/11/2005",
          "06/12/2005",
          "05/01/2006",
          "12/01/2006",
          "19/01/2006",
          "26/01/2006",
          "02/02/2006",
          "09/02/2006",
          "02/03/2006",
          "16/03/2006",
          "30/03/2006",
          "27/04/2006",
          "04/05/2006",
          "11/05/2006",
          "21/09/2006",
          "28/09/2006",
          "05/10/2006",
          "12/10/2006",
          "19/10/2006",
          "02/11/2006",
          "09/11/2006",
          "16/11/2006",
          "30/11/2006",
          "14/12/2006",
          "04/01/2007",
          "11/01/2007",
          "18/01/2007",
          "01/02/2007",
          "08/02/2007",
          "15/02/2007",
          "22/02/2007",
          "05/04/2007",
          "12/04/2007",
          "26/04/2007",
          "03/05/2007",
          "10/05/2007",
          "17/05/2007",
          "27/09/2007",
          "04/10/2007",
          "11/10/2007",
          "18/10/2007",
          "25/10/2007",
          "01/11/2007",
          "08/11/2007",
          "15/11/2007",
          "10/04/2008",
          "17/04/2008",
          "24/04/2008",
          "01/05/2008",
          "08/05/2008",
          "15/05/2008",
          "25/09/2008",
          "09/10/2008",
          "16/10/2008",
          "23/10/2008",
          "30/10/2008",
          "06/11/2008",
          "13/11/2008",
          "20/11/2008",
          "04/12/2008",
          "11/12/2008",
          "15/01/2009",
          "22/01/2009",
          "01/02/2009",
          "05/02/2009",
          "12/02/2009",
          "05/03/2009",
          "12/03/2009",
          "19/03/2009",
          "26/03/2009",
          "09/04/2009",
          "09/04/2009",
          "16/04/2009",
          "23/04/2009",
          "30/04/2009",
          "07/05/2009",
          "14/05/2009",
          "17/09/2009",
          "24/09/2009",
          "01/10/2009",
          "08/10/2009",
          "08/10/2009",
          "15/10/2009",
          "22/10/2009",
          "29/10/2009",
          "05/11/2009",
          "12/11/2009",
          "19/11/2009",
          "03/12/2009",
          "10/12/2009",
          "21/01/2010",
          "04/02/2010",
          "11/02/2010",
          "04/03/2010",
          "04/03/2010",
          "11/03/2010",
          "18/03/2010",
          "25/03/2010",
          "22/04/2010",
          "29/04/2010",
          "06/05/2010",
          "13/05/2010",
          "20/05/2010",
          "23/09/2010",
          "30/09/2010",
          "07/10/2010",
          "14/10/2010",
          "21/10/2010",
          "28/10/2010",
          "04/11/2010",
          "11/11/2010",
          "18/11/2010",
          "02/12/2010",
          "09/12/2010",
          "20/01/2011",
          "27/01/2011",
          "03/02/2011",
          "10/02/2011",
          "17/02/2011",
          "24/02/2011",
          "24/03/2011",
          "14/04/2011",
          "21/04/2011",
          "28/04/2011",
          "05/05/2011",
          "12/05/2011",
          "19/05/2011",
          "22/09/2011",
          "29/09/2011",
          "06/10/2011",
          "13/10/2011",
          "27/10/2011",
          "03/11/2011",
          "10/11/2011",
          "17/11/2011",
          "01/12/2011",
          "08/12/2011",
          "12/01/2012",
          "19/01/2012",
          "02/02/2012",
          "09/02/2012",
          "16/02/2012",
          "23/02/2012",
          "01/03/2012",
          "08/03/2012",
          "15/03/2012",
          "12/04/2012",
          "19/04/2012",
          "26/04/2012",
          "03/05/2012",
          "10/05/2012",
          "20/09/2012",
          "27/09/2012",
          "04/10/2012",
          "18/10/2012",
          "25/10/2012",
          "08/11/2012",
          "15/11/2012",
          "29/11/2012",
          "06/12/2012",
          "10/01/2013",
          "17/01/2013",
          "24/01/2013",
          "31/01/2013",
          "31/01/2013",
          "07/02/2013",
          "14/02/2013",
          "14/03/2013",
          "04/04/2013",
          "11/04/2013",
          "25/04/2013",
          "02/05/2013",
          "09/05/2013",
          "16/05/2013"
         ],
         "y": [
          7.5,
          8.3,
          7.8,
          8.1,
          8.4,
          7.8,
          8.7,
          8.2,
          8.4,
          8.4,
          8.1,
          8.2,
          8.6,
          8.2,
          8.4,
          8.9,
          8.6,
          9.1,
          8.3,
          7.9,
          8.2,
          8.3,
          8.5,
          8.3,
          8.1,
          8.4,
          8.7,
          9.4,
          9,
          8.2,
          8.6,
          8,
          8.2,
          8,
          8.6,
          8.7,
          8.3,
          8.8,
          8.5,
          8.6,
          8.8,
          8.1,
          8.2,
          8.9,
          8.5,
          9,
          8.8,
          8.8,
          8.8,
          9.1,
          9.3,
          8.8,
          8.3,
          8.4,
          8.7,
          8.8,
          8.5,
          8.2,
          8.7,
          9.4,
          8.1,
          8.6,
          8.3,
          7.8,
          9.3,
          8.8,
          8.3,
          8,
          8.1,
          8.1,
          8.5,
          8.2,
          8.6,
          8.8,
          8.4,
          8.7,
          8,
          9.7,
          8.2,
          8.2,
          8,
          8.7,
          8.3,
          8.4,
          8.3,
          8.7,
          8.7,
          9.2,
          8.3,
          8.7,
          9,
          8.8,
          8.1,
          8,
          9.4,
          9.4,
          7.6,
          8.6,
          8.2,
          8.1,
          8.6,
          8.2,
          8.3,
          8.5,
          6.8,
          7.7,
          8.1,
          8.4,
          8.5,
          7.7,
          7.8,
          8.6,
          7.9,
          8,
          8.2,
          7.8,
          8,
          8.4,
          8.2,
          8.2,
          7.9,
          7.8,
          8.2,
          7.4,
          7.8,
          7.7,
          8.2,
          9,
          8.3,
          7.7,
          8.5,
          8.4,
          9.4,
          7.5,
          9.3,
          7.8,
          9,
          9.8,
          7.7,
          8.7,
          8.8,
          8.2,
          8.1,
          7.3,
          8.1,
          7.6,
          7.7,
          7.7,
          6.9,
          7.7,
          8,
          7.9,
          8,
          7.5,
          7.7,
          7.8,
          8.1,
          7.8,
          7.8,
          6.6,
          7.1,
          7.1,
          7.1,
          7.6,
          7.7,
          7.6,
          7.2,
          7.4,
          7.8,
          7,
          7.7,
          7.6,
          7.8,
          8.3,
          7.6,
          7.9,
          8,
          7.6,
          7.5,
          7.3,
          8.1,
          7.5,
          8,
          8,
          8,
          9,
          9.5,
          9.8
         ]
        },
        {
         "marker": {
          "color": "rgba(0, 0, 100,0.2)"
         },
         "name": "Votes",
         "type": "bar",
         "x": [
          "24/03/2005",
          "29/03/2005",
          "05/04/2005",
          "12/04/2005",
          "19/04/2005",
          "26/04/2005",
          "20/09/2005",
          "27/09/2005",
          "04/10/2005",
          "11/10/2005",
          "18/10/2005",
          "01/11/2005",
          "08/11/2005",
          "15/11/2005",
          "22/11/2005",
          "06/12/2005",
          "05/01/2006",
          "12/01/2006",
          "19/01/2006",
          "26/01/2006",
          "02/02/2006",
          "09/02/2006",
          "02/03/2006",
          "16/03/2006",
          "30/03/2006",
          "27/04/2006",
          "04/05/2006",
          "11/05/2006",
          "21/09/2006",
          "28/09/2006",
          "05/10/2006",
          "12/10/2006",
          "19/10/2006",
          "02/11/2006",
          "09/11/2006",
          "16/11/2006",
          "30/11/2006",
          "14/12/2006",
          "04/01/2007",
          "11/01/2007",
          "18/01/2007",
          "01/02/2007",
          "08/02/2007",
          "15/02/2007",
          "22/02/2007",
          "05/04/2007",
          "12/04/2007",
          "26/04/2007",
          "03/05/2007",
          "10/05/2007",
          "17/05/2007",
          "27/09/2007",
          "04/10/2007",
          "11/10/2007",
          "18/10/2007",
          "25/10/2007",
          "01/11/2007",
          "08/11/2007",
          "15/11/2007",
          "10/04/2008",
          "17/04/2008",
          "24/04/2008",
          "01/05/2008",
          "08/05/2008",
          "15/05/2008",
          "25/09/2008",
          "09/10/2008",
          "16/10/2008",
          "23/10/2008",
          "30/10/2008",
          "06/11/2008",
          "13/11/2008",
          "20/11/2008",
          "04/12/2008",
          "11/12/2008",
          "15/01/2009",
          "22/01/2009",
          "01/02/2009",
          "05/02/2009",
          "12/02/2009",
          "05/03/2009",
          "12/03/2009",
          "19/03/2009",
          "26/03/2009",
          "09/04/2009",
          "09/04/2009",
          "16/04/2009",
          "23/04/2009",
          "30/04/2009",
          "07/05/2009",
          "14/05/2009",
          "17/09/2009",
          "24/09/2009",
          "01/10/2009",
          "08/10/2009",
          "08/10/2009",
          "15/10/2009",
          "22/10/2009",
          "29/10/2009",
          "05/11/2009",
          "12/11/2009",
          "19/11/2009",
          "03/12/2009",
          "10/12/2009",
          "21/01/2010",
          "04/02/2010",
          "11/02/2010",
          "04/03/2010",
          "04/03/2010",
          "11/03/2010",
          "18/03/2010",
          "25/03/2010",
          "22/04/2010",
          "29/04/2010",
          "06/05/2010",
          "13/05/2010",
          "20/05/2010",
          "23/09/2010",
          "30/09/2010",
          "07/10/2010",
          "14/10/2010",
          "21/10/2010",
          "28/10/2010",
          "04/11/2010",
          "11/11/2010",
          "18/11/2010",
          "02/12/2010",
          "09/12/2010",
          "20/01/2011",
          "27/01/2011",
          "03/02/2011",
          "10/02/2011",
          "17/02/2011",
          "24/02/2011",
          "24/03/2011",
          "14/04/2011",
          "21/04/2011",
          "28/04/2011",
          "05/05/2011",
          "12/05/2011",
          "19/05/2011",
          "22/09/2011",
          "29/09/2011",
          "06/10/2011",
          "13/10/2011",
          "27/10/2011",
          "03/11/2011",
          "10/11/2011",
          "17/11/2011",
          "01/12/2011",
          "08/12/2011",
          "12/01/2012",
          "19/01/2012",
          "02/02/2012",
          "09/02/2012",
          "16/02/2012",
          "23/02/2012",
          "01/03/2012",
          "08/03/2012",
          "15/03/2012",
          "12/04/2012",
          "19/04/2012",
          "26/04/2012",
          "03/05/2012",
          "10/05/2012",
          "20/09/2012",
          "27/09/2012",
          "04/10/2012",
          "18/10/2012",
          "25/10/2012",
          "08/11/2012",
          "15/11/2012",
          "29/11/2012",
          "06/12/2012",
          "10/01/2013",
          "17/01/2013",
          "24/01/2013",
          "31/01/2013",
          "31/01/2013",
          "07/02/2013",
          "14/02/2013",
          "14/03/2013",
          "04/04/2013",
          "11/04/2013",
          "25/04/2013",
          "02/05/2013",
          "09/05/2013",
          "16/05/2013"
         ],
         "xaxis": "x",
         "y": [
          4349,
          4213,
          3536,
          3428,
          3745,
          3372,
          3780,
          3218,
          3218,
          3183,
          2992,
          2981,
          3087,
          2828,
          2940,
          3204,
          3115,
          3783,
          2762,
          2745,
          2723,
          2731,
          2875,
          2819,
          2719,
          2783,
          2838,
          4195,
          3608,
          2663,
          2787,
          2686,
          2622,
          2697,
          2642,
          2768,
          2772,
          2935,
          2623,
          2688,
          2822,
          2618,
          2641,
          3028,
          2622,
          2968,
          2798,
          2790,
          2785,
          3200,
          3461,
          3262,
          2605,
          2517,
          2707,
          2767,
          2545,
          2459,
          2574,
          4824,
          2439,
          2536,
          2434,
          2305,
          3453,
          2880,
          2327,
          2292,
          2213,
          2289,
          2371,
          2201,
          2447,
          2437,
          2300,
          2376,
          2298,
          7058,
          2169,
          2132,
          2164,
          2333,
          2194,
          2181,
          2182,
          2391,
          2250,
          2942,
          2162,
          2454,
          2581,
          2504,
          2057,
          2052,
          4055,
          2509,
          2156,
          2262,
          2047,
          2018,
          2385,
          2034,
          2345,
          2162,
          2665,
          1963,
          1942,
          2048,
          2065,
          1922,
          1885,
          2199,
          1892,
          1922,
          1920,
          1850,
          1909,
          2220,
          1991,
          2119,
          1937,
          1896,
          1971,
          1966,
          1925,
          1871,
          1958,
          2514,
          2002,
          1904,
          2065,
          2048,
          4236,
          1872,
          3216,
          1950,
          2598,
          6909,
          1918,
          2134,
          2344,
          2102,
          1943,
          1858,
          1993,
          1797,
          1718,
          1833,
          1850,
          1812,
          1795,
          1742,
          1887,
          1717,
          1671,
          1774,
          1828,
          1721,
          1681,
          1944,
          1739,
          1857,
          1694,
          1630,
          1702,
          1837,
          1730,
          1712,
          1809,
          1780,
          1720,
          1652,
          1693,
          1918,
          1720,
          1697,
          1754,
          1644,
          1641,
          1655,
          1839,
          1931,
          1691,
          1743,
          1748,
          2439,
          3401,
          9269
         ],
         "yaxis": "y2"
        }
       ],
       "layout": {
        "annotations": [
         {
          "arrowhead": 7,
          "ax": -40,
          "ay": -40,
          "showarrow": true,
          "text": "Steve Carell Leaves the Show",
          "x": "28/04/2011",
          "xref": "x",
          "y": 9.8,
          "yref": "y"
         }
        ],
        "plot_bgcolor": "white",
        "template": {
         "data": {
          "bar": [
           {
            "error_x": {
             "color": "#2a3f5f"
            },
            "error_y": {
             "color": "#2a3f5f"
            },
            "marker": {
             "line": {
              "color": "#E5ECF6",
              "width": 0.5
             },
             "pattern": {
              "fillmode": "overlay",
              "size": 10,
              "solidity": 0.2
             }
            },
            "type": "bar"
           }
          ],
          "barpolar": [
           {
            "marker": {
             "line": {
              "color": "#E5ECF6",
              "width": 0.5
             },
             "pattern": {
              "fillmode": "overlay",
              "size": 10,
              "solidity": 0.2
             }
            },
            "type": "barpolar"
           }
          ],
          "carpet": [
           {
            "aaxis": {
             "endlinecolor": "#2a3f5f",
             "gridcolor": "white",
             "linecolor": "white",
             "minorgridcolor": "white",
             "startlinecolor": "#2a3f5f"
            },
            "baxis": {
             "endlinecolor": "#2a3f5f",
             "gridcolor": "white",
             "linecolor": "white",
             "minorgridcolor": "white",
             "startlinecolor": "#2a3f5f"
            },
            "type": "carpet"
           }
          ],
          "choropleth": [
           {
            "colorbar": {
             "outlinewidth": 0,
             "ticks": ""
            },
            "type": "choropleth"
           }
          ],
          "contour": [
           {
            "colorbar": {
             "outlinewidth": 0,
             "ticks": ""
            },
            "colorscale": [
             [
              0,
              "#0d0887"
             ],
             [
              0.1111111111111111,
              "#46039f"
             ],
             [
              0.2222222222222222,
              "#7201a8"
             ],
             [
              0.3333333333333333,
              "#9c179e"
             ],
             [
              0.4444444444444444,
              "#bd3786"
             ],
             [
              0.5555555555555556,
              "#d8576b"
             ],
             [
              0.6666666666666666,
              "#ed7953"
             ],
             [
              0.7777777777777778,
              "#fb9f3a"
             ],
             [
              0.8888888888888888,
              "#fdca26"
             ],
             [
              1,
              "#f0f921"
             ]
            ],
            "type": "contour"
           }
          ],
          "contourcarpet": [
           {
            "colorbar": {
             "outlinewidth": 0,
             "ticks": ""
            },
            "type": "contourcarpet"
           }
          ],
          "heatmap": [
           {
            "colorbar": {
             "outlinewidth": 0,
             "ticks": ""
            },
            "colorscale": [
             [
              0,
              "#0d0887"
             ],
             [
              0.1111111111111111,
              "#46039f"
             ],
             [
              0.2222222222222222,
              "#7201a8"
             ],
             [
              0.3333333333333333,
              "#9c179e"
             ],
             [
              0.4444444444444444,
              "#bd3786"
             ],
             [
              0.5555555555555556,
              "#d8576b"
             ],
             [
              0.6666666666666666,
              "#ed7953"
             ],
             [
              0.7777777777777778,
              "#fb9f3a"
             ],
             [
              0.8888888888888888,
              "#fdca26"
             ],
             [
              1,
              "#f0f921"
             ]
            ],
            "type": "heatmap"
           }
          ],
          "heatmapgl": [
           {
            "colorbar": {
             "outlinewidth": 0,
             "ticks": ""
            },
            "colorscale": [
             [
              0,
              "#0d0887"
             ],
             [
              0.1111111111111111,
              "#46039f"
             ],
             [
              0.2222222222222222,
              "#7201a8"
             ],
             [
              0.3333333333333333,
              "#9c179e"
             ],
             [
              0.4444444444444444,
              "#bd3786"
             ],
             [
              0.5555555555555556,
              "#d8576b"
             ],
             [
              0.6666666666666666,
              "#ed7953"
             ],
             [
              0.7777777777777778,
              "#fb9f3a"
             ],
             [
              0.8888888888888888,
              "#fdca26"
             ],
             [
              1,
              "#f0f921"
             ]
            ],
            "type": "heatmapgl"
           }
          ],
          "histogram": [
           {
            "marker": {
             "pattern": {
              "fillmode": "overlay",
              "size": 10,
              "solidity": 0.2
             }
            },
            "type": "histogram"
           }
          ],
          "histogram2d": [
           {
            "colorbar": {
             "outlinewidth": 0,
             "ticks": ""
            },
            "colorscale": [
             [
              0,
              "#0d0887"
             ],
             [
              0.1111111111111111,
              "#46039f"
             ],
             [
              0.2222222222222222,
              "#7201a8"
             ],
             [
              0.3333333333333333,
              "#9c179e"
             ],
             [
              0.4444444444444444,
              "#bd3786"
             ],
             [
              0.5555555555555556,
              "#d8576b"
             ],
             [
              0.6666666666666666,
              "#ed7953"
             ],
             [
              0.7777777777777778,
              "#fb9f3a"
             ],
             [
              0.8888888888888888,
              "#fdca26"
             ],
             [
              1,
              "#f0f921"
             ]
            ],
            "type": "histogram2d"
           }
          ],
          "histogram2dcontour": [
           {
            "colorbar": {
             "outlinewidth": 0,
             "ticks": ""
            },
            "colorscale": [
             [
              0,
              "#0d0887"
             ],
             [
              0.1111111111111111,
              "#46039f"
             ],
             [
              0.2222222222222222,
              "#7201a8"
             ],
             [
              0.3333333333333333,
              "#9c179e"
             ],
             [
              0.4444444444444444,
              "#bd3786"
             ],
             [
              0.5555555555555556,
              "#d8576b"
             ],
             [
              0.6666666666666666,
              "#ed7953"
             ],
             [
              0.7777777777777778,
              "#fb9f3a"
             ],
             [
              0.8888888888888888,
              "#fdca26"
             ],
             [
              1,
              "#f0f921"
             ]
            ],
            "type": "histogram2dcontour"
           }
          ],
          "mesh3d": [
           {
            "colorbar": {
             "outlinewidth": 0,
             "ticks": ""
            },
            "type": "mesh3d"
           }
          ],
          "parcoords": [
           {
            "line": {
             "colorbar": {
              "outlinewidth": 0,
              "ticks": ""
             }
            },
            "type": "parcoords"
           }
          ],
          "pie": [
           {
            "automargin": true,
            "type": "pie"
           }
          ],
          "scatter": [
           {
            "fillpattern": {
             "fillmode": "overlay",
             "size": 10,
             "solidity": 0.2
            },
            "type": "scatter"
           }
          ],
          "scatter3d": [
           {
            "line": {
             "colorbar": {
              "outlinewidth": 0,
              "ticks": ""
             }
            },
            "marker": {
             "colorbar": {
              "outlinewidth": 0,
              "ticks": ""
             }
            },
            "type": "scatter3d"
           }
          ],
          "scattercarpet": [
           {
            "marker": {
             "colorbar": {
              "outlinewidth": 0,
              "ticks": ""
             }
            },
            "type": "scattercarpet"
           }
          ],
          "scattergeo": [
           {
            "marker": {
             "colorbar": {
              "outlinewidth": 0,
              "ticks": ""
             }
            },
            "type": "scattergeo"
           }
          ],
          "scattergl": [
           {
            "marker": {
             "colorbar": {
              "outlinewidth": 0,
              "ticks": ""
             }
            },
            "type": "scattergl"
           }
          ],
          "scattermapbox": [
           {
            "marker": {
             "colorbar": {
              "outlinewidth": 0,
              "ticks": ""
             }
            },
            "type": "scattermapbox"
           }
          ],
          "scatterpolar": [
           {
            "marker": {
             "colorbar": {
              "outlinewidth": 0,
              "ticks": ""
             }
            },
            "type": "scatterpolar"
           }
          ],
          "scatterpolargl": [
           {
            "marker": {
             "colorbar": {
              "outlinewidth": 0,
              "ticks": ""
             }
            },
            "type": "scatterpolargl"
           }
          ],
          "scatterternary": [
           {
            "marker": {
             "colorbar": {
              "outlinewidth": 0,
              "ticks": ""
             }
            },
            "type": "scatterternary"
           }
          ],
          "surface": [
           {
            "colorbar": {
             "outlinewidth": 0,
             "ticks": ""
            },
            "colorscale": [
             [
              0,
              "#0d0887"
             ],
             [
              0.1111111111111111,
              "#46039f"
             ],
             [
              0.2222222222222222,
              "#7201a8"
             ],
             [
              0.3333333333333333,
              "#9c179e"
             ],
             [
              0.4444444444444444,
              "#bd3786"
             ],
             [
              0.5555555555555556,
              "#d8576b"
             ],
             [
              0.6666666666666666,
              "#ed7953"
             ],
             [
              0.7777777777777778,
              "#fb9f3a"
             ],
             [
              0.8888888888888888,
              "#fdca26"
             ],
             [
              1,
              "#f0f921"
             ]
            ],
            "type": "surface"
           }
          ],
          "table": [
           {
            "cells": {
             "fill": {
              "color": "#EBF0F8"
             },
             "line": {
              "color": "white"
             }
            },
            "header": {
             "fill": {
              "color": "#C8D4E3"
             },
             "line": {
              "color": "white"
             }
            },
            "type": "table"
           }
          ]
         },
         "layout": {
          "annotationdefaults": {
           "arrowcolor": "#2a3f5f",
           "arrowhead": 0,
           "arrowwidth": 1
          },
          "autotypenumbers": "strict",
          "coloraxis": {
           "colorbar": {
            "outlinewidth": 0,
            "ticks": ""
           }
          },
          "colorscale": {
           "diverging": [
            [
             0,
             "#8e0152"
            ],
            [
             0.1,
             "#c51b7d"
            ],
            [
             0.2,
             "#de77ae"
            ],
            [
             0.3,
             "#f1b6da"
            ],
            [
             0.4,
             "#fde0ef"
            ],
            [
             0.5,
             "#f7f7f7"
            ],
            [
             0.6,
             "#e6f5d0"
            ],
            [
             0.7,
             "#b8e186"
            ],
            [
             0.8,
             "#7fbc41"
            ],
            [
             0.9,
             "#4d9221"
            ],
            [
             1,
             "#276419"
            ]
           ],
           "sequential": [
            [
             0,
             "#0d0887"
            ],
            [
             0.1111111111111111,
             "#46039f"
            ],
            [
             0.2222222222222222,
             "#7201a8"
            ],
            [
             0.3333333333333333,
             "#9c179e"
            ],
            [
             0.4444444444444444,
             "#bd3786"
            ],
            [
             0.5555555555555556,
             "#d8576b"
            ],
            [
             0.6666666666666666,
             "#ed7953"
            ],
            [
             0.7777777777777778,
             "#fb9f3a"
            ],
            [
             0.8888888888888888,
             "#fdca26"
            ],
            [
             1,
             "#f0f921"
            ]
           ],
           "sequentialminus": [
            [
             0,
             "#0d0887"
            ],
            [
             0.1111111111111111,
             "#46039f"
            ],
            [
             0.2222222222222222,
             "#7201a8"
            ],
            [
             0.3333333333333333,
             "#9c179e"
            ],
            [
             0.4444444444444444,
             "#bd3786"
            ],
            [
             0.5555555555555556,
             "#d8576b"
            ],
            [
             0.6666666666666666,
             "#ed7953"
            ],
            [
             0.7777777777777778,
             "#fb9f3a"
            ],
            [
             0.8888888888888888,
             "#fdca26"
            ],
            [
             1,
             "#f0f921"
            ]
           ]
          },
          "colorway": [
           "#636efa",
           "#EF553B",
           "#00cc96",
           "#ab63fa",
           "#FFA15A",
           "#19d3f3",
           "#FF6692",
           "#B6E880",
           "#FF97FF",
           "#FECB52"
          ],
          "font": {
           "color": "#2a3f5f"
          },
          "geo": {
           "bgcolor": "white",
           "lakecolor": "white",
           "landcolor": "#E5ECF6",
           "showlakes": true,
           "showland": true,
           "subunitcolor": "white"
          },
          "hoverlabel": {
           "align": "left"
          },
          "hovermode": "closest",
          "mapbox": {
           "style": "light"
          },
          "paper_bgcolor": "white",
          "plot_bgcolor": "#E5ECF6",
          "polar": {
           "angularaxis": {
            "gridcolor": "white",
            "linecolor": "white",
            "ticks": ""
           },
           "bgcolor": "#E5ECF6",
           "radialaxis": {
            "gridcolor": "white",
            "linecolor": "white",
            "ticks": ""
           }
          },
          "scene": {
           "xaxis": {
            "backgroundcolor": "#E5ECF6",
            "gridcolor": "white",
            "gridwidth": 2,
            "linecolor": "white",
            "showbackground": true,
            "ticks": "",
            "zerolinecolor": "white"
           },
           "yaxis": {
            "backgroundcolor": "#E5ECF6",
            "gridcolor": "white",
            "gridwidth": 2,
            "linecolor": "white",
            "showbackground": true,
            "ticks": "",
            "zerolinecolor": "white"
           },
           "zaxis": {
            "backgroundcolor": "#E5ECF6",
            "gridcolor": "white",
            "gridwidth": 2,
            "linecolor": "white",
            "showbackground": true,
            "ticks": "",
            "zerolinecolor": "white"
           }
          },
          "shapedefaults": {
           "line": {
            "color": "#2a3f5f"
           }
          },
          "ternary": {
           "aaxis": {
            "gridcolor": "white",
            "linecolor": "white",
            "ticks": ""
           },
           "baxis": {
            "gridcolor": "white",
            "linecolor": "white",
            "ticks": ""
           },
           "bgcolor": "#E5ECF6",
           "caxis": {
            "gridcolor": "white",
            "linecolor": "white",
            "ticks": ""
           }
          },
          "title": {
           "x": 0.05
          },
          "xaxis": {
           "automargin": true,
           "gridcolor": "white",
           "linecolor": "white",
           "ticks": "",
           "title": {
            "standoff": 15
           },
           "zerolinecolor": "white",
           "zerolinewidth": 2
          },
          "yaxis": {
           "automargin": true,
           "gridcolor": "white",
           "linecolor": "white",
           "ticks": "",
           "title": {
            "standoff": 15
           },
           "zerolinecolor": "white",
           "zerolinewidth": 2
          }
         }
        },
        "title": {
         "text": "The Office IMDB Ratings Per Episode"
        },
        "xaxis": {
         "anchor": "y",
         "domain": [
          0,
          0.94
         ],
         "linecolor": "rgb(204, 204, 204)",
         "linewidth": 2,
         "nticks": 10,
         "showgrid": true,
         "showline": true,
         "showticklabels": true,
         "ticks": "outside",
         "title": {
          "text": "Air Date"
         }
        },
        "yaxis": {
         "anchor": "x",
         "domain": [
          0,
          1
         ],
         "gridcolor": "rgba(0, 0, 0,0.09)",
         "showgrid": true,
         "showline": true,
         "showticklabels": true,
         "title": {
          "text": "IMDB Rating"
         },
         "zeroline": true
        },
        "yaxis2": {
         "anchor": "x",
         "overlaying": "y",
         "side": "right",
         "title": {
          "text": "# Votes"
         }
        }
       }
      }
     },
     "metadata": {},
     "output_type": "display_data"
    }
   ],
   "source": [
    "TheOffice_df = pd.read_csv('TheOfficeIMDB.csv', sep=',')\n",
    "\n",
    "fig = make_subplots(specs=[[{\"secondary_y\": True}]])\n",
    "\n",
    "trace = go.Scatter(\n",
    "    x=TheOffice_df['AirDate'],\n",
    "    y=TheOffice_df['Rating'],\n",
    "    mode=\"lines\",\n",
    "    name=\"Rating\",\n",
    "    line=dict(shape='spline', color='rgb(242,219,126)', width=3)\n",
    ")\n",
    "fig.add_trace(trace)\n",
    "\n",
    "trace = go.Bar(\n",
    "    x=TheOffice_df['AirDate'],\n",
    "    y=TheOffice_df['Num_Votes'],\n",
    "    name=\"Votes\",\n",
    "    marker_color='rgba(0, 0, 100,0.2)'\n",
    ")\n",
    "fig.add_trace(trace, secondary_y=True)\n",
    "\n",
    "fig.update_layout(\n",
    "    title='The Office IMDB Ratings Per Episode',\n",
    "    xaxis_title=\"Air Date\",\n",
    "    annotations=[\n",
    "        go.layout.Annotation(\n",
    "            x='28/04/2011',\n",
    "            y=9.8,\n",
    "            xref=\"x\",\n",
    "            yref=\"y\",\n",
    "            text=\"Steve Carell Leaves the Show\",\n",
    "            showarrow=True,\n",
    "            arrowhead=7,\n",
    "            ax=-40,\n",
    "            ay=-40\n",
    "        )\n",
    "    ],\n",
    "    xaxis=dict(\n",
    "        showline=True,\n",
    "        showgrid=True,\n",
    "        showticklabels=True,\n",
    "        linecolor='rgb(204, 204, 204)',\n",
    "        linewidth=2,\n",
    "        ticks='outside'\n",
    "    ),\n",
    "    yaxis=dict(\n",
    "        showgrid=True,\n",
    "        zeroline=True,\n",
    "        showline=True,\n",
    "        showticklabels=True,\n",
    "        gridcolor='rgba(0, 0, 0,0.09)'\n",
    "    ),\n",
    "\n",
    "    plot_bgcolor='white'\n",
    ")\n",
    "fig.update_xaxes(nticks=10)\n",
    "fig.update_yaxes(title_text=\"IMDB Rating\", secondary_y=False)\n",
    "fig.update_yaxes(title_text=\"# Votes\", secondary_y=True)\n",
    "\n",
    "iplot(fig)"
   ]
  },
  {
   "cell_type": "markdown",
   "metadata": {},
   "source": [
    "I then went a step further and added an annotation where Steve Carell appeared in the last episode to show how it correlated with the ratings rising."
   ]
  },
  {
   "cell_type": "code",
   "execution_count": 13,
   "metadata": {},
   "outputs": [
    {
     "data": {
      "application/vnd.plotly.v1+json": {
       "config": {
        "linkText": "Export to plot.ly",
        "plotlyServerURL": "https://plot.ly",
        "showLink": false
       },
       "data": [
        {
         "line": {
          "color": "rgb(242,219,126)",
          "shape": "spline",
          "width": 3
         },
         "mode": "lines",
         "name": "Rating",
         "type": "scatter",
         "x": [
          "24/03/2005",
          "29/03/2005",
          "05/04/2005",
          "12/04/2005",
          "19/04/2005",
          "26/04/2005",
          "20/09/2005",
          "27/09/2005",
          "04/10/2005",
          "11/10/2005",
          "18/10/2005",
          "01/11/2005",
          "08/11/2005",
          "15/11/2005",
          "22/11/2005",
          "06/12/2005",
          "05/01/2006",
          "12/01/2006",
          "19/01/2006",
          "26/01/2006",
          "02/02/2006",
          "09/02/2006",
          "02/03/2006",
          "16/03/2006",
          "30/03/2006",
          "27/04/2006",
          "04/05/2006",
          "11/05/2006",
          "21/09/2006",
          "28/09/2006",
          "05/10/2006",
          "12/10/2006",
          "19/10/2006",
          "02/11/2006",
          "09/11/2006",
          "16/11/2006",
          "30/11/2006",
          "14/12/2006",
          "04/01/2007",
          "11/01/2007",
          "18/01/2007",
          "01/02/2007",
          "08/02/2007",
          "15/02/2007",
          "22/02/2007",
          "05/04/2007",
          "12/04/2007",
          "26/04/2007",
          "03/05/2007",
          "10/05/2007",
          "17/05/2007",
          "27/09/2007",
          "04/10/2007",
          "11/10/2007",
          "18/10/2007",
          "25/10/2007",
          "01/11/2007",
          "08/11/2007",
          "15/11/2007",
          "10/04/2008",
          "17/04/2008",
          "24/04/2008",
          "01/05/2008",
          "08/05/2008",
          "15/05/2008",
          "25/09/2008",
          "09/10/2008",
          "16/10/2008",
          "23/10/2008",
          "30/10/2008",
          "06/11/2008",
          "13/11/2008",
          "20/11/2008",
          "04/12/2008",
          "11/12/2008",
          "15/01/2009",
          "22/01/2009",
          "01/02/2009",
          "05/02/2009",
          "12/02/2009",
          "05/03/2009",
          "12/03/2009",
          "19/03/2009",
          "26/03/2009",
          "09/04/2009",
          "09/04/2009",
          "16/04/2009",
          "23/04/2009",
          "30/04/2009",
          "07/05/2009",
          "14/05/2009",
          "17/09/2009",
          "24/09/2009",
          "01/10/2009",
          "08/10/2009",
          "08/10/2009",
          "15/10/2009",
          "22/10/2009",
          "29/10/2009",
          "05/11/2009",
          "12/11/2009",
          "19/11/2009",
          "03/12/2009",
          "10/12/2009",
          "21/01/2010",
          "04/02/2010",
          "11/02/2010",
          "04/03/2010",
          "04/03/2010",
          "11/03/2010",
          "18/03/2010",
          "25/03/2010",
          "22/04/2010",
          "29/04/2010",
          "06/05/2010",
          "13/05/2010",
          "20/05/2010",
          "23/09/2010",
          "30/09/2010",
          "07/10/2010",
          "14/10/2010",
          "21/10/2010",
          "28/10/2010",
          "04/11/2010",
          "11/11/2010",
          "18/11/2010",
          "02/12/2010",
          "09/12/2010",
          "20/01/2011",
          "27/01/2011",
          "03/02/2011",
          "10/02/2011",
          "17/02/2011",
          "24/02/2011",
          "24/03/2011",
          "14/04/2011",
          "21/04/2011",
          "28/04/2011",
          "05/05/2011",
          "12/05/2011",
          "19/05/2011",
          "22/09/2011",
          "29/09/2011",
          "06/10/2011",
          "13/10/2011",
          "27/10/2011",
          "03/11/2011",
          "10/11/2011",
          "17/11/2011",
          "01/12/2011",
          "08/12/2011",
          "12/01/2012",
          "19/01/2012",
          "02/02/2012",
          "09/02/2012",
          "16/02/2012",
          "23/02/2012",
          "01/03/2012",
          "08/03/2012",
          "15/03/2012",
          "12/04/2012",
          "19/04/2012",
          "26/04/2012",
          "03/05/2012",
          "10/05/2012",
          "20/09/2012",
          "27/09/2012",
          "04/10/2012",
          "18/10/2012",
          "25/10/2012",
          "08/11/2012",
          "15/11/2012",
          "29/11/2012",
          "06/12/2012",
          "10/01/2013",
          "17/01/2013",
          "24/01/2013",
          "31/01/2013",
          "31/01/2013",
          "07/02/2013",
          "14/02/2013",
          "14/03/2013",
          "04/04/2013",
          "11/04/2013",
          "25/04/2013",
          "02/05/2013",
          "09/05/2013",
          "16/05/2013"
         ],
         "y": [
          7.5,
          8.3,
          7.8,
          8.1,
          8.4,
          7.8,
          8.7,
          8.2,
          8.4,
          8.4,
          8.1,
          8.2,
          8.6,
          8.2,
          8.4,
          8.9,
          8.6,
          9.1,
          8.3,
          7.9,
          8.2,
          8.3,
          8.5,
          8.3,
          8.1,
          8.4,
          8.7,
          9.4,
          9,
          8.2,
          8.6,
          8,
          8.2,
          8,
          8.6,
          8.7,
          8.3,
          8.8,
          8.5,
          8.6,
          8.8,
          8.1,
          8.2,
          8.9,
          8.5,
          9,
          8.8,
          8.8,
          8.8,
          9.1,
          9.3,
          8.8,
          8.3,
          8.4,
          8.7,
          8.8,
          8.5,
          8.2,
          8.7,
          9.4,
          8.1,
          8.6,
          8.3,
          7.8,
          9.3,
          8.8,
          8.3,
          8,
          8.1,
          8.1,
          8.5,
          8.2,
          8.6,
          8.8,
          8.4,
          8.7,
          8,
          9.7,
          8.2,
          8.2,
          8,
          8.7,
          8.3,
          8.4,
          8.3,
          8.7,
          8.7,
          9.2,
          8.3,
          8.7,
          9,
          8.8,
          8.1,
          8,
          9.4,
          9.4,
          7.6,
          8.6,
          8.2,
          8.1,
          8.6,
          8.2,
          8.3,
          8.5,
          6.8,
          7.7,
          8.1,
          8.4,
          8.5,
          7.7,
          7.8,
          8.6,
          7.9,
          8,
          8.2,
          7.8,
          8,
          8.4,
          8.2,
          8.2,
          7.9,
          7.8,
          8.2,
          7.4,
          7.8,
          7.7,
          8.2,
          9,
          8.3,
          7.7,
          8.5,
          8.4,
          9.4,
          7.5,
          9.3,
          7.8,
          9,
          9.8,
          7.7,
          8.7,
          8.8,
          8.2,
          8.1,
          7.3,
          8.1,
          7.6,
          7.7,
          7.7,
          6.9,
          7.7,
          8,
          7.9,
          8,
          7.5,
          7.7,
          7.8,
          8.1,
          7.8,
          7.8,
          6.6,
          7.1,
          7.1,
          7.1,
          7.6,
          7.7,
          7.6,
          7.2,
          7.4,
          7.8,
          7,
          7.7,
          7.6,
          7.8,
          8.3,
          7.6,
          7.9,
          8,
          7.6,
          7.5,
          7.3,
          8.1,
          7.5,
          8,
          8,
          8,
          9,
          9.5,
          9.8
         ]
        },
        {
         "marker": {
          "color": "rgba(0, 0, 100,0.2)"
         },
         "name": "Votes",
         "type": "bar",
         "x": [
          "24/03/2005",
          "29/03/2005",
          "05/04/2005",
          "12/04/2005",
          "19/04/2005",
          "26/04/2005",
          "20/09/2005",
          "27/09/2005",
          "04/10/2005",
          "11/10/2005",
          "18/10/2005",
          "01/11/2005",
          "08/11/2005",
          "15/11/2005",
          "22/11/2005",
          "06/12/2005",
          "05/01/2006",
          "12/01/2006",
          "19/01/2006",
          "26/01/2006",
          "02/02/2006",
          "09/02/2006",
          "02/03/2006",
          "16/03/2006",
          "30/03/2006",
          "27/04/2006",
          "04/05/2006",
          "11/05/2006",
          "21/09/2006",
          "28/09/2006",
          "05/10/2006",
          "12/10/2006",
          "19/10/2006",
          "02/11/2006",
          "09/11/2006",
          "16/11/2006",
          "30/11/2006",
          "14/12/2006",
          "04/01/2007",
          "11/01/2007",
          "18/01/2007",
          "01/02/2007",
          "08/02/2007",
          "15/02/2007",
          "22/02/2007",
          "05/04/2007",
          "12/04/2007",
          "26/04/2007",
          "03/05/2007",
          "10/05/2007",
          "17/05/2007",
          "27/09/2007",
          "04/10/2007",
          "11/10/2007",
          "18/10/2007",
          "25/10/2007",
          "01/11/2007",
          "08/11/2007",
          "15/11/2007",
          "10/04/2008",
          "17/04/2008",
          "24/04/2008",
          "01/05/2008",
          "08/05/2008",
          "15/05/2008",
          "25/09/2008",
          "09/10/2008",
          "16/10/2008",
          "23/10/2008",
          "30/10/2008",
          "06/11/2008",
          "13/11/2008",
          "20/11/2008",
          "04/12/2008",
          "11/12/2008",
          "15/01/2009",
          "22/01/2009",
          "01/02/2009",
          "05/02/2009",
          "12/02/2009",
          "05/03/2009",
          "12/03/2009",
          "19/03/2009",
          "26/03/2009",
          "09/04/2009",
          "09/04/2009",
          "16/04/2009",
          "23/04/2009",
          "30/04/2009",
          "07/05/2009",
          "14/05/2009",
          "17/09/2009",
          "24/09/2009",
          "01/10/2009",
          "08/10/2009",
          "08/10/2009",
          "15/10/2009",
          "22/10/2009",
          "29/10/2009",
          "05/11/2009",
          "12/11/2009",
          "19/11/2009",
          "03/12/2009",
          "10/12/2009",
          "21/01/2010",
          "04/02/2010",
          "11/02/2010",
          "04/03/2010",
          "04/03/2010",
          "11/03/2010",
          "18/03/2010",
          "25/03/2010",
          "22/04/2010",
          "29/04/2010",
          "06/05/2010",
          "13/05/2010",
          "20/05/2010",
          "23/09/2010",
          "30/09/2010",
          "07/10/2010",
          "14/10/2010",
          "21/10/2010",
          "28/10/2010",
          "04/11/2010",
          "11/11/2010",
          "18/11/2010",
          "02/12/2010",
          "09/12/2010",
          "20/01/2011",
          "27/01/2011",
          "03/02/2011",
          "10/02/2011",
          "17/02/2011",
          "24/02/2011",
          "24/03/2011",
          "14/04/2011",
          "21/04/2011",
          "28/04/2011",
          "05/05/2011",
          "12/05/2011",
          "19/05/2011",
          "22/09/2011",
          "29/09/2011",
          "06/10/2011",
          "13/10/2011",
          "27/10/2011",
          "03/11/2011",
          "10/11/2011",
          "17/11/2011",
          "01/12/2011",
          "08/12/2011",
          "12/01/2012",
          "19/01/2012",
          "02/02/2012",
          "09/02/2012",
          "16/02/2012",
          "23/02/2012",
          "01/03/2012",
          "08/03/2012",
          "15/03/2012",
          "12/04/2012",
          "19/04/2012",
          "26/04/2012",
          "03/05/2012",
          "10/05/2012",
          "20/09/2012",
          "27/09/2012",
          "04/10/2012",
          "18/10/2012",
          "25/10/2012",
          "08/11/2012",
          "15/11/2012",
          "29/11/2012",
          "06/12/2012",
          "10/01/2013",
          "17/01/2013",
          "24/01/2013",
          "31/01/2013",
          "31/01/2013",
          "07/02/2013",
          "14/02/2013",
          "14/03/2013",
          "04/04/2013",
          "11/04/2013",
          "25/04/2013",
          "02/05/2013",
          "09/05/2013",
          "16/05/2013"
         ],
         "xaxis": "x",
         "y": [
          4349,
          4213,
          3536,
          3428,
          3745,
          3372,
          3780,
          3218,
          3218,
          3183,
          2992,
          2981,
          3087,
          2828,
          2940,
          3204,
          3115,
          3783,
          2762,
          2745,
          2723,
          2731,
          2875,
          2819,
          2719,
          2783,
          2838,
          4195,
          3608,
          2663,
          2787,
          2686,
          2622,
          2697,
          2642,
          2768,
          2772,
          2935,
          2623,
          2688,
          2822,
          2618,
          2641,
          3028,
          2622,
          2968,
          2798,
          2790,
          2785,
          3200,
          3461,
          3262,
          2605,
          2517,
          2707,
          2767,
          2545,
          2459,
          2574,
          4824,
          2439,
          2536,
          2434,
          2305,
          3453,
          2880,
          2327,
          2292,
          2213,
          2289,
          2371,
          2201,
          2447,
          2437,
          2300,
          2376,
          2298,
          7058,
          2169,
          2132,
          2164,
          2333,
          2194,
          2181,
          2182,
          2391,
          2250,
          2942,
          2162,
          2454,
          2581,
          2504,
          2057,
          2052,
          4055,
          2509,
          2156,
          2262,
          2047,
          2018,
          2385,
          2034,
          2345,
          2162,
          2665,
          1963,
          1942,
          2048,
          2065,
          1922,
          1885,
          2199,
          1892,
          1922,
          1920,
          1850,
          1909,
          2220,
          1991,
          2119,
          1937,
          1896,
          1971,
          1966,
          1925,
          1871,
          1958,
          2514,
          2002,
          1904,
          2065,
          2048,
          4236,
          1872,
          3216,
          1950,
          2598,
          6909,
          1918,
          2134,
          2344,
          2102,
          1943,
          1858,
          1993,
          1797,
          1718,
          1833,
          1850,
          1812,
          1795,
          1742,
          1887,
          1717,
          1671,
          1774,
          1828,
          1721,
          1681,
          1944,
          1739,
          1857,
          1694,
          1630,
          1702,
          1837,
          1730,
          1712,
          1809,
          1780,
          1720,
          1652,
          1693,
          1918,
          1720,
          1697,
          1754,
          1644,
          1641,
          1655,
          1839,
          1931,
          1691,
          1743,
          1748,
          2439,
          3401,
          9269
         ],
         "yaxis": "y2"
        }
       ],
       "layout": {
        "annotations": [
         {
          "arrowhead": 7,
          "ax": -40,
          "ay": -40,
          "showarrow": true,
          "text": "Steve Carell Leaves the Show",
          "x": "28/04/2011",
          "xref": "x",
          "y": 9.8,
          "yref": "y"
         },
         {
          "arrowhead": 7,
          "ax": -40,
          "ay": -40,
          "showarrow": true,
          "text": "Steve Carell Returns to the Show",
          "x": "16/05/2013",
          "xref": "x",
          "y": 9.8,
          "yref": "y"
         }
        ],
        "plot_bgcolor": "white",
        "template": {
         "data": {
          "bar": [
           {
            "error_x": {
             "color": "#2a3f5f"
            },
            "error_y": {
             "color": "#2a3f5f"
            },
            "marker": {
             "line": {
              "color": "#E5ECF6",
              "width": 0.5
             },
             "pattern": {
              "fillmode": "overlay",
              "size": 10,
              "solidity": 0.2
             }
            },
            "type": "bar"
           }
          ],
          "barpolar": [
           {
            "marker": {
             "line": {
              "color": "#E5ECF6",
              "width": 0.5
             },
             "pattern": {
              "fillmode": "overlay",
              "size": 10,
              "solidity": 0.2
             }
            },
            "type": "barpolar"
           }
          ],
          "carpet": [
           {
            "aaxis": {
             "endlinecolor": "#2a3f5f",
             "gridcolor": "white",
             "linecolor": "white",
             "minorgridcolor": "white",
             "startlinecolor": "#2a3f5f"
            },
            "baxis": {
             "endlinecolor": "#2a3f5f",
             "gridcolor": "white",
             "linecolor": "white",
             "minorgridcolor": "white",
             "startlinecolor": "#2a3f5f"
            },
            "type": "carpet"
           }
          ],
          "choropleth": [
           {
            "colorbar": {
             "outlinewidth": 0,
             "ticks": ""
            },
            "type": "choropleth"
           }
          ],
          "contour": [
           {
            "colorbar": {
             "outlinewidth": 0,
             "ticks": ""
            },
            "colorscale": [
             [
              0,
              "#0d0887"
             ],
             [
              0.1111111111111111,
              "#46039f"
             ],
             [
              0.2222222222222222,
              "#7201a8"
             ],
             [
              0.3333333333333333,
              "#9c179e"
             ],
             [
              0.4444444444444444,
              "#bd3786"
             ],
             [
              0.5555555555555556,
              "#d8576b"
             ],
             [
              0.6666666666666666,
              "#ed7953"
             ],
             [
              0.7777777777777778,
              "#fb9f3a"
             ],
             [
              0.8888888888888888,
              "#fdca26"
             ],
             [
              1,
              "#f0f921"
             ]
            ],
            "type": "contour"
           }
          ],
          "contourcarpet": [
           {
            "colorbar": {
             "outlinewidth": 0,
             "ticks": ""
            },
            "type": "contourcarpet"
           }
          ],
          "heatmap": [
           {
            "colorbar": {
             "outlinewidth": 0,
             "ticks": ""
            },
            "colorscale": [
             [
              0,
              "#0d0887"
             ],
             [
              0.1111111111111111,
              "#46039f"
             ],
             [
              0.2222222222222222,
              "#7201a8"
             ],
             [
              0.3333333333333333,
              "#9c179e"
             ],
             [
              0.4444444444444444,
              "#bd3786"
             ],
             [
              0.5555555555555556,
              "#d8576b"
             ],
             [
              0.6666666666666666,
              "#ed7953"
             ],
             [
              0.7777777777777778,
              "#fb9f3a"
             ],
             [
              0.8888888888888888,
              "#fdca26"
             ],
             [
              1,
              "#f0f921"
             ]
            ],
            "type": "heatmap"
           }
          ],
          "heatmapgl": [
           {
            "colorbar": {
             "outlinewidth": 0,
             "ticks": ""
            },
            "colorscale": [
             [
              0,
              "#0d0887"
             ],
             [
              0.1111111111111111,
              "#46039f"
             ],
             [
              0.2222222222222222,
              "#7201a8"
             ],
             [
              0.3333333333333333,
              "#9c179e"
             ],
             [
              0.4444444444444444,
              "#bd3786"
             ],
             [
              0.5555555555555556,
              "#d8576b"
             ],
             [
              0.6666666666666666,
              "#ed7953"
             ],
             [
              0.7777777777777778,
              "#fb9f3a"
             ],
             [
              0.8888888888888888,
              "#fdca26"
             ],
             [
              1,
              "#f0f921"
             ]
            ],
            "type": "heatmapgl"
           }
          ],
          "histogram": [
           {
            "marker": {
             "pattern": {
              "fillmode": "overlay",
              "size": 10,
              "solidity": 0.2
             }
            },
            "type": "histogram"
           }
          ],
          "histogram2d": [
           {
            "colorbar": {
             "outlinewidth": 0,
             "ticks": ""
            },
            "colorscale": [
             [
              0,
              "#0d0887"
             ],
             [
              0.1111111111111111,
              "#46039f"
             ],
             [
              0.2222222222222222,
              "#7201a8"
             ],
             [
              0.3333333333333333,
              "#9c179e"
             ],
             [
              0.4444444444444444,
              "#bd3786"
             ],
             [
              0.5555555555555556,
              "#d8576b"
             ],
             [
              0.6666666666666666,
              "#ed7953"
             ],
             [
              0.7777777777777778,
              "#fb9f3a"
             ],
             [
              0.8888888888888888,
              "#fdca26"
             ],
             [
              1,
              "#f0f921"
             ]
            ],
            "type": "histogram2d"
           }
          ],
          "histogram2dcontour": [
           {
            "colorbar": {
             "outlinewidth": 0,
             "ticks": ""
            },
            "colorscale": [
             [
              0,
              "#0d0887"
             ],
             [
              0.1111111111111111,
              "#46039f"
             ],
             [
              0.2222222222222222,
              "#7201a8"
             ],
             [
              0.3333333333333333,
              "#9c179e"
             ],
             [
              0.4444444444444444,
              "#bd3786"
             ],
             [
              0.5555555555555556,
              "#d8576b"
             ],
             [
              0.6666666666666666,
              "#ed7953"
             ],
             [
              0.7777777777777778,
              "#fb9f3a"
             ],
             [
              0.8888888888888888,
              "#fdca26"
             ],
             [
              1,
              "#f0f921"
             ]
            ],
            "type": "histogram2dcontour"
           }
          ],
          "mesh3d": [
           {
            "colorbar": {
             "outlinewidth": 0,
             "ticks": ""
            },
            "type": "mesh3d"
           }
          ],
          "parcoords": [
           {
            "line": {
             "colorbar": {
              "outlinewidth": 0,
              "ticks": ""
             }
            },
            "type": "parcoords"
           }
          ],
          "pie": [
           {
            "automargin": true,
            "type": "pie"
           }
          ],
          "scatter": [
           {
            "fillpattern": {
             "fillmode": "overlay",
             "size": 10,
             "solidity": 0.2
            },
            "type": "scatter"
           }
          ],
          "scatter3d": [
           {
            "line": {
             "colorbar": {
              "outlinewidth": 0,
              "ticks": ""
             }
            },
            "marker": {
             "colorbar": {
              "outlinewidth": 0,
              "ticks": ""
             }
            },
            "type": "scatter3d"
           }
          ],
          "scattercarpet": [
           {
            "marker": {
             "colorbar": {
              "outlinewidth": 0,
              "ticks": ""
             }
            },
            "type": "scattercarpet"
           }
          ],
          "scattergeo": [
           {
            "marker": {
             "colorbar": {
              "outlinewidth": 0,
              "ticks": ""
             }
            },
            "type": "scattergeo"
           }
          ],
          "scattergl": [
           {
            "marker": {
             "colorbar": {
              "outlinewidth": 0,
              "ticks": ""
             }
            },
            "type": "scattergl"
           }
          ],
          "scattermapbox": [
           {
            "marker": {
             "colorbar": {
              "outlinewidth": 0,
              "ticks": ""
             }
            },
            "type": "scattermapbox"
           }
          ],
          "scatterpolar": [
           {
            "marker": {
             "colorbar": {
              "outlinewidth": 0,
              "ticks": ""
             }
            },
            "type": "scatterpolar"
           }
          ],
          "scatterpolargl": [
           {
            "marker": {
             "colorbar": {
              "outlinewidth": 0,
              "ticks": ""
             }
            },
            "type": "scatterpolargl"
           }
          ],
          "scatterternary": [
           {
            "marker": {
             "colorbar": {
              "outlinewidth": 0,
              "ticks": ""
             }
            },
            "type": "scatterternary"
           }
          ],
          "surface": [
           {
            "colorbar": {
             "outlinewidth": 0,
             "ticks": ""
            },
            "colorscale": [
             [
              0,
              "#0d0887"
             ],
             [
              0.1111111111111111,
              "#46039f"
             ],
             [
              0.2222222222222222,
              "#7201a8"
             ],
             [
              0.3333333333333333,
              "#9c179e"
             ],
             [
              0.4444444444444444,
              "#bd3786"
             ],
             [
              0.5555555555555556,
              "#d8576b"
             ],
             [
              0.6666666666666666,
              "#ed7953"
             ],
             [
              0.7777777777777778,
              "#fb9f3a"
             ],
             [
              0.8888888888888888,
              "#fdca26"
             ],
             [
              1,
              "#f0f921"
             ]
            ],
            "type": "surface"
           }
          ],
          "table": [
           {
            "cells": {
             "fill": {
              "color": "#EBF0F8"
             },
             "line": {
              "color": "white"
             }
            },
            "header": {
             "fill": {
              "color": "#C8D4E3"
             },
             "line": {
              "color": "white"
             }
            },
            "type": "table"
           }
          ]
         },
         "layout": {
          "annotationdefaults": {
           "arrowcolor": "#2a3f5f",
           "arrowhead": 0,
           "arrowwidth": 1
          },
          "autotypenumbers": "strict",
          "coloraxis": {
           "colorbar": {
            "outlinewidth": 0,
            "ticks": ""
           }
          },
          "colorscale": {
           "diverging": [
            [
             0,
             "#8e0152"
            ],
            [
             0.1,
             "#c51b7d"
            ],
            [
             0.2,
             "#de77ae"
            ],
            [
             0.3,
             "#f1b6da"
            ],
            [
             0.4,
             "#fde0ef"
            ],
            [
             0.5,
             "#f7f7f7"
            ],
            [
             0.6,
             "#e6f5d0"
            ],
            [
             0.7,
             "#b8e186"
            ],
            [
             0.8,
             "#7fbc41"
            ],
            [
             0.9,
             "#4d9221"
            ],
            [
             1,
             "#276419"
            ]
           ],
           "sequential": [
            [
             0,
             "#0d0887"
            ],
            [
             0.1111111111111111,
             "#46039f"
            ],
            [
             0.2222222222222222,
             "#7201a8"
            ],
            [
             0.3333333333333333,
             "#9c179e"
            ],
            [
             0.4444444444444444,
             "#bd3786"
            ],
            [
             0.5555555555555556,
             "#d8576b"
            ],
            [
             0.6666666666666666,
             "#ed7953"
            ],
            [
             0.7777777777777778,
             "#fb9f3a"
            ],
            [
             0.8888888888888888,
             "#fdca26"
            ],
            [
             1,
             "#f0f921"
            ]
           ],
           "sequentialminus": [
            [
             0,
             "#0d0887"
            ],
            [
             0.1111111111111111,
             "#46039f"
            ],
            [
             0.2222222222222222,
             "#7201a8"
            ],
            [
             0.3333333333333333,
             "#9c179e"
            ],
            [
             0.4444444444444444,
             "#bd3786"
            ],
            [
             0.5555555555555556,
             "#d8576b"
            ],
            [
             0.6666666666666666,
             "#ed7953"
            ],
            [
             0.7777777777777778,
             "#fb9f3a"
            ],
            [
             0.8888888888888888,
             "#fdca26"
            ],
            [
             1,
             "#f0f921"
            ]
           ]
          },
          "colorway": [
           "#636efa",
           "#EF553B",
           "#00cc96",
           "#ab63fa",
           "#FFA15A",
           "#19d3f3",
           "#FF6692",
           "#B6E880",
           "#FF97FF",
           "#FECB52"
          ],
          "font": {
           "color": "#2a3f5f"
          },
          "geo": {
           "bgcolor": "white",
           "lakecolor": "white",
           "landcolor": "#E5ECF6",
           "showlakes": true,
           "showland": true,
           "subunitcolor": "white"
          },
          "hoverlabel": {
           "align": "left"
          },
          "hovermode": "closest",
          "mapbox": {
           "style": "light"
          },
          "paper_bgcolor": "white",
          "plot_bgcolor": "#E5ECF6",
          "polar": {
           "angularaxis": {
            "gridcolor": "white",
            "linecolor": "white",
            "ticks": ""
           },
           "bgcolor": "#E5ECF6",
           "radialaxis": {
            "gridcolor": "white",
            "linecolor": "white",
            "ticks": ""
           }
          },
          "scene": {
           "xaxis": {
            "backgroundcolor": "#E5ECF6",
            "gridcolor": "white",
            "gridwidth": 2,
            "linecolor": "white",
            "showbackground": true,
            "ticks": "",
            "zerolinecolor": "white"
           },
           "yaxis": {
            "backgroundcolor": "#E5ECF6",
            "gridcolor": "white",
            "gridwidth": 2,
            "linecolor": "white",
            "showbackground": true,
            "ticks": "",
            "zerolinecolor": "white"
           },
           "zaxis": {
            "backgroundcolor": "#E5ECF6",
            "gridcolor": "white",
            "gridwidth": 2,
            "linecolor": "white",
            "showbackground": true,
            "ticks": "",
            "zerolinecolor": "white"
           }
          },
          "shapedefaults": {
           "line": {
            "color": "#2a3f5f"
           }
          },
          "ternary": {
           "aaxis": {
            "gridcolor": "white",
            "linecolor": "white",
            "ticks": ""
           },
           "baxis": {
            "gridcolor": "white",
            "linecolor": "white",
            "ticks": ""
           },
           "bgcolor": "#E5ECF6",
           "caxis": {
            "gridcolor": "white",
            "linecolor": "white",
            "ticks": ""
           }
          },
          "title": {
           "x": 0.05
          },
          "xaxis": {
           "automargin": true,
           "gridcolor": "white",
           "linecolor": "white",
           "ticks": "",
           "title": {
            "standoff": 15
           },
           "zerolinecolor": "white",
           "zerolinewidth": 2
          },
          "yaxis": {
           "automargin": true,
           "gridcolor": "white",
           "linecolor": "white",
           "ticks": "",
           "title": {
            "standoff": 15
           },
           "zerolinecolor": "white",
           "zerolinewidth": 2
          }
         }
        },
        "title": {
         "text": "The Office IMDB Ratings Per Episode"
        },
        "xaxis": {
         "anchor": "y",
         "domain": [
          0,
          0.94
         ],
         "linecolor": "rgb(204, 204, 204)",
         "linewidth": 2,
         "nticks": 10,
         "showgrid": true,
         "showline": true,
         "showticklabels": true,
         "ticks": "outside",
         "title": {
          "text": "Air Date"
         }
        },
        "yaxis": {
         "anchor": "x",
         "domain": [
          0,
          1
         ],
         "gridcolor": "rgba(0, 0, 0,0.09)",
         "showgrid": true,
         "showline": true,
         "showticklabels": true,
         "title": {
          "text": "IMDB Rating"
         },
         "zeroline": true
        },
        "yaxis2": {
         "anchor": "x",
         "overlaying": "y",
         "side": "right",
         "title": {
          "text": "# Votes"
         }
        }
       }
      }
     },
     "metadata": {},
     "output_type": "display_data"
    }
   ],
   "source": [
    "TheOffice_df = pd.read_csv('TheOfficeIMDB.csv', sep=',')\n",
    "\n",
    "fig = make_subplots(specs=[[{\"secondary_y\": True}]])\n",
    "\n",
    "trace = go.Scatter(\n",
    "    x=TheOffice_df['AirDate'],\n",
    "    y=TheOffice_df['Rating'],\n",
    "    mode=\"lines\",\n",
    "    name=\"Rating\",\n",
    "    line=dict(shape='spline', color='rgb(242,219,126)', width=3)\n",
    ")\n",
    "fig.add_trace(trace)\n",
    "\n",
    "trace = go.Bar(\n",
    "    x=TheOffice_df['AirDate'],\n",
    "    y=TheOffice_df['Num_Votes'],\n",
    "    name=\"Votes\",\n",
    "    marker_color='rgba(0, 0, 100,0.2)'\n",
    ")\n",
    "fig.add_trace(trace, secondary_y=True)\n",
    "\n",
    "fig.update_layout(\n",
    "    title='The Office IMDB Ratings Per Episode',\n",
    "    xaxis_title=\"Air Date\",\n",
    "    annotations=[\n",
    "        go.layout.Annotation(\n",
    "            x='28/04/2011',\n",
    "            y=9.8,\n",
    "            xref=\"x\",\n",
    "            yref=\"y\",\n",
    "            text=\"Steve Carell Leaves the Show\",\n",
    "            showarrow=True,\n",
    "            arrowhead=7,\n",
    "            ax=-40,\n",
    "            ay=-40\n",
    "        ),\n",
    "        go.layout.Annotation(\n",
    "            x='16/05/2013',\n",
    "            y=9.8,\n",
    "            xref=\"x\",\n",
    "            yref=\"y\",\n",
    "            text=\"Steve Carell Returns to the Show\",\n",
    "            showarrow=True,\n",
    "            arrowhead=7,\n",
    "            ax=-40,\n",
    "            ay=-40\n",
    "        )\n",
    "    ],\n",
    "    xaxis=dict(\n",
    "        showline=True,\n",
    "        showgrid=True,\n",
    "        showticklabels=True,\n",
    "        linecolor='rgb(204, 204, 204)',\n",
    "        linewidth=2,\n",
    "        ticks='outside'\n",
    "    ),\n",
    "    yaxis=dict(\n",
    "        showgrid=True,\n",
    "        zeroline=True,\n",
    "        showline=True,\n",
    "        showticklabels=True,\n",
    "        gridcolor='rgba(0, 0, 0,0.09)'\n",
    "    ),\n",
    "\n",
    "    plot_bgcolor='white'\n",
    ")\n",
    "fig.update_xaxes(nticks=10)\n",
    "fig.update_yaxes(title_text=\"IMDB Rating\", secondary_y=False)\n",
    "fig.update_yaxes(title_text=\"# Votes\", secondary_y=True)\n",
    "\n",
    "iplot(fig)"
   ]
  }
 ],
 "metadata": {
  "kernelspec": {
   "display_name": "Python 3",
   "language": "python",
   "name": "python3"
  },
  "language_info": {
   "codemirror_mode": {
    "name": "ipython",
    "version": 3
   },
   "file_extension": ".py",
   "mimetype": "text/x-python",
   "name": "python",
   "nbconvert_exporter": "python",
   "pygments_lexer": "ipython3",
   "version": "3.11.4"
  }
 },
 "nbformat": 4,
 "nbformat_minor": 2
}
